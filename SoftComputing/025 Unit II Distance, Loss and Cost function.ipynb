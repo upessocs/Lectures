{
 "cells": [
  {
   "cell_type": "markdown",
   "metadata": {},
   "source": [
    "### 1. Distance Between Two Points in 2D Space:\n",
    "In a 2D space, the distance between two points \\((x_1, y_1)\\) and \\((x_2, y_2)\\) can be computed using the **Euclidean distance formula**:\n",
    "\n",
    "\\[\n",
    "d = \\sqrt{(x_2 - x_1)^2 + (y_2 - y_1)^2}\n",
    "\\]\n",
    "\n",
    "This formula comes from applying the Pythagorean theorem, where the difference in the x-coordinates and y-coordinates form the legs of a right triangle, and the distance is the hypotenuse.\n",
    "\n",
    "### 2. Distance Between Two Points in 3D Space:\n",
    "In 3D space, the distance between two points \\((x_1, y_1, z_1)\\) and \\((x_2, y_2, z_2)\\) extends the 2D concept by incorporating the z-axis. The formula becomes:\n",
    "\n",
    "\\[\n",
    "d = \\sqrt{(x_2 - x_1)^2 + (y_2 - y_1)^2 + (z_2 - z_1)^2}\n",
    "\\]\n",
    "\n",
    "This adds the third dimension, accounting for the difference along the z-axis.\n",
    "\n",
    "### 3. Generalized Distance in nD Space:\n",
    "In an n-dimensional space, points are represented as vectors with \\(n\\) components, \\(\\mathbf{p} = (p_1, p_2, ..., p_n)\\) and \\(\\mathbf{q} = (q_1, q_2, ..., q_n)\\). The distance between the two points in \\(n\\)-dimensional space is generalized using the Euclidean distance formula as:\n",
    "\n",
    "\\[\n",
    "d = \\sqrt{(q_1 - p_1)^2 + (q_2 - p_2)^2 + ... + (q_n - p_n)^2}\n",
    "\\]\n",
    "\n",
    "This is the **Euclidean distance** in \\(n\\)-dimensional space and is derived by generalizing the Pythagorean theorem to any number of dimensions.\n",
    "\n",
    "### 4. Hamiltonian (or Hamming) Distance:\n",
    "The **Hamming distance** is used primarily in discrete spaces, such as binary strings, and measures the number of positions at which the corresponding elements of two sequences differ. For two sequences \\(\\mathbf{p} = (p_1, p_2, ..., p_n)\\) and \\(\\mathbf{q} = (q_1, q_2, ..., q_n)\\), the Hamming distance \\(d_H\\) is defined as:\n",
    "\n",
    "\\[\n",
    "d_H = \\sum_{i=1}^{n} \\delta(p_i, q_i)\n",
    "\\]\n",
    "where \\(\\delta(p_i, q_i)\\) is 0 if \\(p_i = q_i\\), and 1 otherwise. \n",
    "\n",
    "For example, the Hamming distance between the binary strings \"1101\" and \"1001\" is 1 (because they differ at the second position).\n",
    "\n",
    "### 5. Euclidean Distance:\n",
    "The **Euclidean distance** between two points is the straight-line distance between them, as described above for 2D, 3D, and \\(n\\)-dimensional spaces. It is a measure of the shortest path between two points in a Euclidean space and can be generalized as:\n",
    "\n",
    "\\[\n",
    "d_E = \\left( \\sum_{i=1}^{n} (q_i - p_i)^2 \\right)^{\\frac{1}{2}}\n",
    "\\]\n",
    "\n",
    "In physical terms, it measures the \"as-the-crow-flies\" distance between points.\n",
    "\n",
    "### 6. Generalized Distance Metrics:\n",
    "There are many ways to measure distance between points beyond the Euclidean distance. The general class of these measures is called **Minkowski distance**, of which Euclidean and Manhattan distances are special cases. The Minkowski distance is defined as:\n",
    "\n",
    "\\[\n",
    "d_M = \\left( \\sum_{i=1}^{n} |q_i - p_i|^p \\right)^{\\frac{1}{p}}\n",
    "\\]\n",
    "\n",
    "- When \\(p = 2\\), this is the **Euclidean distance**.\n",
    "- When \\(p = 1\\), this is the **Manhattan (or taxicab) distance**, where you sum the absolute differences of the coordinates.\n",
    "- As \\(p \\to \\infty\\), this becomes the **Chebyshev distance**, where the distance is the maximum of the absolute differences.\n",
    "\n",
    "### Summary:\n",
    "- **Euclidean distance** measures straight-line distance in continuous spaces, applicable in 2D, 3D, or any \\(n\\)-dimensional space.\n",
    "- **Hamming distance** measures the difference between two sequences of equal length by counting differing positions.\n",
    "- **Minkowski distance** generalizes various distance metrics, where \\(p\\) controls the form of the distance measure (Euclidean for \\(p = 2\\), Manhattan for \\(p = 1\\)).\n",
    "\n",
    "These distance measures have different applications depending on the problem and the type of space you're working in."
   ]
  },
  {
   "cell_type": "code",
   "execution_count": 8,
   "metadata": {},
   "outputs": [
    {
     "data": {
      "text/plain": [
       "5.0"
      ]
     },
     "execution_count": 8,
     "metadata": {},
     "output_type": "execute_result"
    }
   ],
   "source": [
    "import math\n",
    "\n",
    "# Function to calculate Euclidean distance in 2D\n",
    "def euclidean_distance_2d(p1, p2):\n",
    "    return math.sqrt((p2[0] - p1[0])**2 + (p2[1] - p1[1])**2)\n",
    "\n",
    "# Test\n",
    "p1 = (3, 4)\n",
    "p2 = (7, 1)\n",
    "distance_2d = euclidean_distance_2d(p1, p2)\n",
    "distance_2d\n"
   ]
  },
  {
   "cell_type": "code",
   "execution_count": 9,
   "metadata": {},
   "outputs": [
    {
     "data": {
      "text/plain": [
       "5.0"
      ]
     },
     "execution_count": 9,
     "metadata": {},
     "output_type": "execute_result"
    }
   ],
   "source": [
    "# Function to calculate Euclidean distance in 3D\n",
    "def euclidean_distance_3d(p1, p2):\n",
    "    return math.sqrt((p2[0] - p1[0])**2 + (p2[1] - p1[1])**2 + (p2[2] - p1[2])**2)\n",
    "\n",
    "# Test\n",
    "p1 = (1, 2, 3)\n",
    "p2 = (4, 6, 3)\n",
    "distance_3d = euclidean_distance_3d(p1, p2)\n",
    "distance_3d\n"
   ]
  },
  {
   "cell_type": "code",
   "execution_count": 10,
   "metadata": {},
   "outputs": [
    {
     "data": {
      "text/plain": [
       "8.0"
      ]
     },
     "execution_count": 10,
     "metadata": {},
     "output_type": "execute_result"
    }
   ],
   "source": [
    "# Function to calculate Euclidean distance in nD\n",
    "def euclidean_distance_nd(p1, p2):\n",
    "    return math.sqrt(sum((p2[i] - p1[i])**2 for i in range(len(p1))))\n",
    "\n",
    "# Test\n",
    "p1 = (1, 2, 3, 4)\n",
    "p2 = (5, 6, 7, 8)\n",
    "distance_nd = euclidean_distance_nd(p1, p2)\n",
    "distance_nd\n"
   ]
  },
  {
   "cell_type": "code",
   "execution_count": 11,
   "metadata": {},
   "outputs": [
    {
     "data": {
      "text/plain": [
       "1"
      ]
     },
     "execution_count": 11,
     "metadata": {},
     "output_type": "execute_result"
    }
   ],
   "source": [
    "# Function to calculate Hamming distance\n",
    "def hamming_distance(p1, p2):\n",
    "    if len(p1) != len(p2):\n",
    "        raise ValueError(\"Sequences must have the same length\")\n",
    "    return sum(el1 != el2 for el1, el2 in zip(p1, p2))\n",
    "\n",
    "# Test\n",
    "p1 = \"1101\"\n",
    "p2 = \"1001\"\n",
    "hamming_dist = hamming_distance(p1, p2)\n",
    "hamming_dist\n"
   ]
  },
  {
   "cell_type": "code",
   "execution_count": 12,
   "metadata": {},
   "outputs": [
    {
     "data": {
      "text/plain": [
       "9"
      ]
     },
     "execution_count": 12,
     "metadata": {},
     "output_type": "execute_result"
    }
   ],
   "source": [
    "# Function to calculate Manhattan (Taxicab) distance\n",
    "def manhattan_distance(p1, p2):\n",
    "    return sum(abs(p2[i] - p1[i]) for i in range(len(p1)))\n",
    "\n",
    "# Test\n",
    "p1 = (1, 2, 3)\n",
    "p2 = (4, 5, 6)\n",
    "manhattan_dist = manhattan_distance(p1, p2)\n",
    "manhattan_dist\n"
   ]
  },
  {
   "cell_type": "code",
   "execution_count": 13,
   "metadata": {},
   "outputs": [
    {
     "data": {
      "text/plain": [
       "4.3267487109222245"
      ]
     },
     "execution_count": 13,
     "metadata": {},
     "output_type": "execute_result"
    }
   ],
   "source": [
    "# Function to calculate Minkowski distance for a given value of p\n",
    "def minkowski_distance(p1, p2, p):\n",
    "    return sum(abs(p2[i] - p1[i])**p for i in range(len(p1)))**(1/p)\n",
    "\n",
    "# Test\n",
    "p1 = (1, 2, 3)\n",
    "p2 = (4, 5, 6)\n",
    "p = 3\n",
    "minkowski_dist = minkowski_distance(p1, p2, p)\n",
    "minkowski_dist\n"
   ]
  },
  {
   "cell_type": "code",
   "execution_count": 14,
   "metadata": {},
   "outputs": [
    {
     "data": {
      "text/plain": [
       "3"
      ]
     },
     "execution_count": 14,
     "metadata": {},
     "output_type": "execute_result"
    }
   ],
   "source": [
    "# Function to calculate Chebyshev distance\n",
    "def chebyshev_distance(p1, p2):\n",
    "    return max(abs(p2[i] - p1[i]) for i in range(len(p1)))\n",
    "\n",
    "# Test\n",
    "p1 = (1, 2, 3)\n",
    "p2 = (4, 5, 6)\n",
    "chebyshev_dist = chebyshev_distance(p1, p2)\n",
    "chebyshev_dist\n"
   ]
  },
  {
   "cell_type": "markdown",
   "metadata": {},
   "source": [
    "\n",
    "\n",
    "### 1. **Euclidean Distance in 2D**\n",
    "\n",
    "```python\n",
    "import math\n",
    "\n",
    "# Function to calculate Euclidean distance in 2D\n",
    "def euclidean_distance_2d(p1, p2):\n",
    "    return math.sqrt((p2[0] - p1[0])**2 + (p2[1] - p1[1])**2)\n",
    "\n",
    "# Test\n",
    "p1 = (3, 4)\n",
    "p2 = (7, 1)\n",
    "distance_2d = euclidean_distance_2d(p1, p2)\n",
    "distance_2d\n",
    "```\n",
    "\n",
    "### 2. **Euclidean Distance in 3D**\n",
    "\n",
    "```python\n",
    "# Function to calculate Euclidean distance in 3D\n",
    "def euclidean_distance_3d(p1, p2):\n",
    "    return math.sqrt((p2[0] - p1[0])**2 + (p2[1] - p1[1])**2 + (p2[2] - p1[2])**2)\n",
    "\n",
    "# Test\n",
    "p1 = (1, 2, 3)\n",
    "p2 = (4, 6, 3)\n",
    "distance_3d = euclidean_distance_3d(p1, p2)\n",
    "distance_3d\n",
    "```\n",
    "\n",
    "### 3. **Euclidean Distance in nD (Generalized)**\n",
    "\n",
    "```python\n",
    "# Function to calculate Euclidean distance in nD\n",
    "def euclidean_distance_nd(p1, p2):\n",
    "    return math.sqrt(sum((p2[i] - p1[i])**2 for i in range(len(p1))))\n",
    "\n",
    "# Test\n",
    "p1 = (1, 2, 3, 4)\n",
    "p2 = (5, 6, 7, 8)\n",
    "distance_nd = euclidean_distance_nd(p1, p2)\n",
    "distance_nd\n",
    "```\n",
    "\n",
    "### 4. **Hamming Distance**\n",
    "\n",
    "```python\n",
    "# Function to calculate Hamming distance\n",
    "def hamming_distance(p1, p2):\n",
    "    if len(p1) != len(p2):\n",
    "        raise ValueError(\"Sequences must have the same length\")\n",
    "    return sum(el1 != el2 for el1, el2 in zip(p1, p2))\n",
    "\n",
    "# Test\n",
    "p1 = \"1101\"\n",
    "p2 = \"1001\"\n",
    "hamming_dist = hamming_distance(p1, p2)\n",
    "hamming_dist\n",
    "```\n",
    "\n",
    "### 5. **Manhattan Distance (p=1 in Minkowski)**\n",
    "\n",
    "```python\n",
    "# Function to calculate Manhattan (Taxicab) distance\n",
    "def manhattan_distance(p1, p2):\n",
    "    return sum(abs(p2[i] - p1[i]) for i in range(len(p1)))\n",
    "\n",
    "# Test\n",
    "p1 = (1, 2, 3)\n",
    "p2 = (4, 5, 6)\n",
    "manhattan_dist = manhattan_distance(p1, p2)\n",
    "manhattan_dist\n",
    "```\n",
    "\n",
    "### 6. **Minkowski Distance (Generalized for any p)**\n",
    "\n",
    "```python\n",
    "# Function to calculate Minkowski distance for a given value of p\n",
    "def minkowski_distance(p1, p2, p):\n",
    "    return sum(abs(p2[i] - p1[i])**p for i in range(len(p1)))**(1/p)\n",
    "\n",
    "# Test\n",
    "p1 = (1, 2, 3)\n",
    "p2 = (4, 5, 6)\n",
    "p = 3\n",
    "minkowski_dist = minkowski_distance(p1, p2, p)\n",
    "minkowski_dist\n",
    "```\n",
    "\n",
    "### 7. **Chebyshev Distance (p → ∞ in Minkowski)**\n",
    "\n",
    "```python\n",
    "# Function to calculate Chebyshev distance\n",
    "def chebyshev_distance(p1, p2):\n",
    "    return max(abs(p2[i] - p1[i]) for i in range(len(p1)))\n",
    "\n",
    "# Test\n",
    "p1 = (1, 2, 3)\n",
    "p2 = (4, 5, 6)\n",
    "chebyshev_dist = chebyshev_distance(p1, p2)\n",
    "chebyshev_dist\n",
    "```\n",
    "\n",
    "### Explanation:\n",
    "- **Euclidean Distance (2D, 3D, nD)**: Calculates the straight-line distance using the square root of the sum of squared differences between corresponding coordinates.\n",
    "- **Hamming Distance**: Counts the number of positions at which two sequences (e.g., binary strings) differ.\n",
    "- **Manhattan Distance**: The sum of absolute differences between coordinates, mimicking the distance you'd travel on a grid.\n",
    "- **Minkowski Distance**: A generalization of both Euclidean and Manhattan distances, allowing the user to adjust the parameter \\(p\\).\n",
    "- **Chebyshev Distance**: Measures the maximum distance along any axis, useful in grid-based navigation.\n",
    "\n"
   ]
  }
 ],
 "metadata": {
  "kernelspec": {
   "display_name": "Python 3",
   "language": "python",
   "name": "python3"
  },
  "language_info": {
   "codemirror_mode": {
    "name": "ipython",
    "version": 3
   },
   "file_extension": ".py",
   "mimetype": "text/x-python",
   "name": "python",
   "nbconvert_exporter": "python",
   "pygments_lexer": "ipython3",
   "version": "3.12.3"
  }
 },
 "nbformat": 4,
 "nbformat_minor": 2
}
