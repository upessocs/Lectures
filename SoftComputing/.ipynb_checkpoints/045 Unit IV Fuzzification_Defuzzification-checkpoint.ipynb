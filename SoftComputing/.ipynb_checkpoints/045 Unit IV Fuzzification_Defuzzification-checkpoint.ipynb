{
 "cells": [
  {
   "cell_type": "markdown",
   "id": "cc64f0af-38d5-4f5e-b16e-1772a5ebe7c6",
   "metadata": {},
   "source": [
    "# Fuzzification and defuzzification\n",
    "> Fuzzification and defuzzification are core concepts in **fuzzy logic** systems. \n",
    "\n",
    "### 1. **Fuzzification:**\n",
    "Fuzzification converts **crisp input values** (precise values) into **fuzzy sets** using **membership functions**. A membership function maps input values to a range between 0 and 1.\n",
    "\n",
    "#### Example: \n",
    "For a temperature control system:\n",
    "- Temperature = 30°C\n",
    "- **Fuzzy Set:** \"Cold\", \"Warm\", \"Hot\"\n",
    "- Membership Functions: \n",
    "If `Temp = 30°C`, it could have membership:  \n",
    "`Cold(30) = 0.2, Warm(30) = 0.7, Hot(30) = 0.1`\n",
    "\n",
    "Common **membership functions**:\n",
    "- **Triangular**\n",
    "- **Trapezoidal**\n",
    "- **Gaussian**\n",
    "\n",
    "### Python Code to Plot Membership Functions using scikit-fuzzy"
   ]
  },
  {
   "cell_type": "raw",
   "id": "cb198e6b-0c6d-48e1-a6bd-a3afbc1bac5e",
   "metadata": {},
   "source": [
    "# %%capture\n",
    "!pip install scikit-fuzzy\n",
    "!pip install scipy\n",
    "!apt-get install python-scipy"
   ]
  },
  {
   "cell_type": "code",
   "execution_count": null,
   "id": "7eee917e-9375-4872-a644-3967473128a3",
   "metadata": {},
   "outputs": [],
   "source": [
    "import numpy as np\n",
    "import skfuzzy as fuzz\n",
    "import matplotlib.pyplot as plt\n",
    "\n",
    "# Define the universe of discourse (input range)\n",
    "x = np.linspace(0, 100, 500)\n",
    "\n",
    "# Define common membership functions\n",
    "triangular_mf = fuzz.trimf(x, [20, 50, 80])  # Triangular\n",
    "trapezoidal_mf = fuzz.trapmf(x, [10, 30, 70, 90])  # Trapezoidal\n",
    "gaussian_mf = fuzz.gaussmf(x, 50, 10)  # Gaussian\n",
    "gauss2_mf = fuzz.gauss2mf(x, 30, 5, 70, 10)  # Double Gaussian\n",
    "sigmoid_mf = fuzz.sigmf(x, 50, 5)  # Sigmoidal\n",
    "\n",
    "# Plotting the membership functions\n",
    "plt.figure(figsize=(12, 6))\n",
    "\n",
    "# Triangular Membership Function\n",
    "plt.plot(x, triangular_mf, label='Triangular MF', color='blue')\n",
    "\n",
    "# Trapezoidal Membership Function\n",
    "plt.plot(x, trapezoidal_mf, label='Trapezoidal MF', color='green')\n",
    "\n",
    "# Gaussian Membership Function\n",
    "plt.plot(x, gaussian_mf, label='Gaussian MF', color='red')\n",
    "\n",
    "# Double Gaussian Membership Function\n",
    "plt.plot(x, gauss2_mf, label='Double Gaussian MF', color='purple')\n",
    "\n",
    "# Sigmoidal Membership Function\n",
    "plt.plot(x, sigmoid_mf, label='Sigmoidal MF', color='orange')\n",
    "\n",
    "# Customize the plot\n",
    "plt.title('Common Membership Functions using scikit-fuzzy')\n",
    "plt.xlabel('Universe of Discourse (Input)')\n",
    "plt.ylabel('Membership Degree')\n",
    "plt.legend(loc='upper right')\n",
    "plt.grid(True)\n",
    "\n",
    "# Show the plot\n",
    "plt.show()\n"
   ]
  },
  {
   "cell_type": "markdown",
   "id": "71521e69-d7c4-4d87-8bc3-c1c9c18b6956",
   "metadata": {},
   "source": [
    "\n",
    "\n",
    "### **Explanation**\n",
    "\n",
    "1. **Triangular Membership Function:**  \n",
    "Defined by three points `[a, b, c]`.  \n",
    "- `fuzz.trimf(x, [a, b, c])`\n",
    "\n",
    "2. **Trapezoidal Membership Function:**  \n",
    "Defined by four points `[a, b, c, d]`.  \n",
    "- `fuzz.trapmf(x, [a, b, c, d])`\n",
    "\n",
    "3. **Gaussian Membership Function:**  \n",
    "Defined by the **mean** and **standard deviation**.  \n",
    "- `fuzz.gaussmf(x, mean, sigma)`\n",
    "\n",
    "4. **Double Gaussian Membership Function:**  \n",
    "Defined by two Gaussian distributions with different means and standard deviations.  \n",
    "- `fuzz.gauss2mf(x, mean1, sigma1, mean2, sigma2)`\n",
    "\n",
    "5. **Sigmoidal Membership Function:**  \n",
    "Defined by the **midpoint** and **slope**.  \n",
    "- `fuzz.sigmf(x, midpoint, slope)`\n",
    "\n"
   ]
  },
  {
   "cell_type": "markdown",
   "id": "440df1af-f0de-40c8-9825-821a80fb0c53",
   "metadata": {},
   "source": [
    "### 2. **Defuzzification:**\n",
    "Defuzzification converts fuzzy output sets into **crisp values**. Methods include:\n",
    "- **Centroid (Center of Gravity)**\n",
    "- **Mean of Maximum (MoM)**\n",
    "- **Weighted Average**\n",
    "\n",
    "\n",
    "\n",
    "### Python Implementation of Fuzzification & Defuzzification\n",
    "\n",
    "#### **1. Define Membership Functions**"
   ]
  },
  {
   "cell_type": "code",
   "execution_count": null,
   "id": "2f2faeb1-599c-4a4e-84c1-31a419f875a1",
   "metadata": {},
   "outputs": [],
   "source": [
    "import numpy as np\n",
    "import matplotlib.pyplot as plt\n",
    "\n",
    "# Triangular Membership Function\n",
    "def triangular_mf(x, a, b, c):\n",
    "    if x <= a or x >= c:\n",
    "        return 0\n",
    "    elif a < x < b:\n",
    "        return (x - a) / (b - a)\n",
    "    elif b <= x < c:\n",
    "        return (c - x) / (c - b)\n",
    "\n",
    "# Trapezoidal Membership Function\n",
    "def trapezoidal_mf(x, a, b, c, d):\n",
    "    if x <= a or x >= d:\n",
    "        return 0\n",
    "    elif a < x < b:\n",
    "        return (x - a) / (b - a)\n",
    "    elif b <= x <= c:\n",
    "        return 1\n",
    "    elif c < x < d:\n",
    "        return (d - x) / (d - c)\n",
    "\n",
    "# Gaussian Membership Function\n",
    "def gaussian_mf(x, mean, sigma):\n",
    "    return np.exp(-((x - mean) ** 2) / (2 * sigma ** 2))"
   ]
  },
  {
   "cell_type": "markdown",
   "id": "461dd237-fa48-4f56-83d3-1dc8631e243a",
   "metadata": {},
   "source": [
    "#### **2. Plot Membership Functions**"
   ]
  },
  {
   "cell_type": "code",
   "execution_count": null,
   "id": "7fa399b4-d28d-4012-9f6c-eb1fb84d1edb",
   "metadata": {},
   "outputs": [],
   "source": [
    "# Plotting Membership Functions\n",
    "x = np.linspace(0, 100, 100)\n",
    "\n",
    "plt.figure(figsize=(12, 5))\n",
    "\n",
    "plt.plot(x, [triangular_mf(i, 20, 50, 80) for i in x], label='Triangular MF', color='blue')\n",
    "plt.plot(x, [trapezoidal_mf(i, 20, 40, 60, 80) for i in x], label='Trapezoidal MF', color='green')\n",
    "plt.plot(x, [gaussian_mf(i, 50, 10) for i in x], label='Gaussian MF', color='red')\n",
    "\n",
    "plt.xlabel('Input (e.g., Temperature)')\n",
    "plt.ylabel('Membership Degree')\n",
    "plt.legend()\n",
    "plt.title('Membership Functions')\n",
    "plt.grid(True)\n",
    "plt.show()"
   ]
  },
  {
   "cell_type": "markdown",
   "id": "1486bfb1-743e-40b4-9323-c285367ae9a8",
   "metadata": {},
   "source": [
    "#### **3. Defuzzification using the Centroid Method**\n",
    "\n",
    "The **centroid** method calculates the center of the area under the curve to get a crisp value."
   ]
  },
  {
   "cell_type": "code",
   "execution_count": null,
   "id": "d59131e1-4539-49c8-91b6-d6e68a834b4b",
   "metadata": {},
   "outputs": [],
   "source": [
    "def centroid_defuzzification(x, mf_values):\n",
    "    numerator = np.sum(x * mf_values)\n",
    "    denominator = np.sum(mf_values)\n",
    "    return numerator / denominator if denominator != 0 else 0\n",
    "\n",
    "# Example: Defuzzifying a triangular membership function\n",
    "mf_values = np.array([triangular_mf(i, 20, 50, 80) for i in x])\n",
    "crisp_value = centroid_defuzzification(x, mf_values)\n",
    "\n",
    "print(f\"Crisp Output using Centroid Method: {crisp_value}\")\n",
    "\n",
    "# Plot the Defuzzification Result\n",
    "plt.figure(figsize=(10, 5))\n",
    "plt.plot(x, mf_values, label='Triangular MF', color='blue')\n",
    "plt.axvline(crisp_value, color='red', linestyle='--', label=f'Crisp Value: {crisp_value:.2f}')\n",
    "plt.xlabel('Input (e.g., Temperature)')\n",
    "plt.ylabel('Membership Degree')\n",
    "plt.legend()\n",
    "plt.title('Defuzzification using Centroid Method')\n",
    "plt.grid(True)\n",
    "plt.show()"
   ]
  },
  {
   "cell_type": "markdown",
   "id": "1d693324-3b84-4f12-8ca2-d917736b1558",
   "metadata": {},
   "source": [
    "### Explanation of Code\n",
    "\n",
    "1. **Fuzzification:** \n",
    "- We define three membership functions: Triangular, Trapezoidal, and Gaussian.\n",
    "- Each function maps a crisp input to a membership degree between 0 and 1.\n",
    "\n",
    "2. **Plotting:** \n",
    "- We visualize the membership functions to understand how they behave.\n",
    "\n",
    "3. **Defuzzification (Centroid Method):** \n",
    "- For the given membership values, we compute the **centroid** as the crisp value.\n",
    "- This helps convert fuzzy outputs (like “somewhat warm”) into a **crisp number** (e.g., 47.5°C).\n",
    "\n"
   ]
  },
  {
   "cell_type": "markdown",
   "id": "f045bf99-8d12-4eaf-a904-693a67efe407",
   "metadata": {},
   "source": [
    "# scikit-fuzzy \n",
    "## Implementation of fuzzyfication and defuzzification\n",
    "> In Python, you can use the **`scikit-fuzzy`** library for implementing fuzzy logic systems. It provides a wide range of tools for fuzzification, defuzzification, and fuzzy inference systems.\n",
    "\n",
    "\n",
    "\n",
    "### **Installing `scikit-fuzzy`**\n",
    "\n",
    "To install the library, run:\n",
    "\n",
    "```bash\n",
    "pip install scikit-fuzzy\n",
    "```\n",
    "\n",
    "\n",
    "\n",
    "### **Example: Fuzzy Logic System for Temperature Control**\n",
    "\n",
    "We’ll build a simple **temperature control system** where:  \n",
    "- Input: **Temperature**  \n",
    "- Fuzzy Sets: \"Cold\", \"Warm\", \"Hot\"  \n",
    "- Output: **Fan Speed**  \n",
    "- Defuzzification: **Centroid Method**  \n",
    "\n",
    "\n",
    "\n",
    "#### **1. Define the System Using `skfuzzy`**"
   ]
  },
  {
   "cell_type": "code",
   "execution_count": null,
   "id": "0c489878-bb6f-4ce9-ade3-dd22ff5d7d9a",
   "metadata": {},
   "outputs": [],
   "source": [
    "%%capture\n",
    "!pip install scikit-fuzzy"
   ]
  },
  {
   "cell_type": "code",
   "execution_count": null,
   "id": "844ad18e-dc40-4039-9807-44c37b6bc685",
   "metadata": {
    "jp-MarkdownHeadingCollapsed": true
   },
   "outputs": [],
   "source": [
    "import numpy as np\n",
    "import skfuzzy as fuzz\n",
    "import matplotlib.pyplot as plt\n",
    "\n",
    "# Define the universe of discourse (input and output ranges)\n",
    "x_temp = np.arange(0, 101, 1)  # Temperature (0 to 100°C)\n",
    "x_speed = np.arange(0, 101, 1)  # Fan Speed (0 to 100%)\n",
    "\n",
    "# Define fuzzy membership functions for temperature\n",
    "temp_cold = fuzz.trimf(x_temp, [0, 0, 50])\n",
    "temp_warm = fuzz.trimf(x_temp, [30, 50, 70])\n",
    "temp_hot = fuzz.trimf(x_temp, [50, 100, 100])\n",
    "\n",
    "# Define fuzzy membership functions for fan speed\n",
    "speed_low = fuzz.trimf(x_speed, [0, 0, 50])\n",
    "speed_medium = fuzz.trimf(x_speed, [30, 50, 70])\n",
    "speed_high = fuzz.trimf(x_speed, [50, 100, 100])"
   ]
  },
  {
   "cell_type": "markdown",
   "id": "3cedacbe-86e8-4a63-b884-e7220765ccc9",
   "metadata": {},
   "source": [
    "# 2. Visualize the Membership Functions"
   ]
  },
  {
   "cell_type": "code",
   "execution_count": null,
   "id": "13f1177d-06f0-4d3c-bc3c-5a52c0a05b26",
   "metadata": {},
   "outputs": [],
   "source": [
    "# Plot the membership functions for temperature\n",
    "plt.figure(figsize=(12, 5))\n",
    "\n",
    "plt.plot(x_temp, temp_cold, label='Cold', color='blue')\n",
    "plt.plot(x_temp, temp_warm, label='Warm', color='green')\n",
    "plt.plot(x_temp, temp_hot, label='Hot', color='red')\n",
    "\n",
    "plt.title('Temperature Membership Functions')\n",
    "plt.xlabel('Temperature (°C)')\n",
    "plt.ylabel('Membership Degree')\n",
    "plt.legend()\n",
    "plt.grid(True)\n",
    "plt.show()\n"
   ]
  },
  {
   "cell_type": "markdown",
   "id": "caaffcb1-7478-40e4-8a29-2550f5e52f70",
   "metadata": {},
   "source": [
    "# 3. Perform Fuzzy Inference (Using Rules)\n",
    "\n",
    "- Rule 1: If temperature is cold, then fan speed is low.\n",
    "- Rule 2: If temperature is warm, then fan speed is medium.\n",
    "- Rule 3: If temperature is hot, then fan speed is high."
   ]
  },
  {
   "cell_type": "code",
   "execution_count": null,
   "id": "ec360d51-f83b-42bf-96a5-6da5e6ed4a10",
   "metadata": {},
   "outputs": [],
   "source": [
    "# Example input temperature\n",
    "temp_input = 45\n",
    "\n",
    "# Fuzzification: Get membership degrees\n",
    "cold_level = fuzz.interp_membership(x_temp, temp_cold, temp_input)\n",
    "warm_level = fuzz.interp_membership(x_temp, temp_warm, temp_input)\n",
    "hot_level = fuzz.interp_membership(x_temp, temp_hot, temp_input)\n",
    "\n",
    "print(f\"Cold: {cold_level}, Warm: {warm_level}, Hot: {hot_level}\")\n",
    "\n",
    "# Apply rules (taking the minimum of input membership degrees)\n",
    "activation_low = np.fmin(cold_level, speed_low)\n",
    "activation_medium = np.fmin(warm_level, speed_medium)\n",
    "activation_high = np.fmin(hot_level, speed_high)\n",
    "\n",
    "# Combine the outputs using the maximum (aggregation)\n",
    "aggregated = np.fmax(activation_low, np.fmax(activation_medium, activation_high))\n"
   ]
  },
  {
   "cell_type": "markdown",
   "id": "024de1ad-06b1-4ec5-92b7-842b73116069",
   "metadata": {},
   "source": [
    "# 4. Defuzzification Using Centroid Method"
   ]
  },
  {
   "cell_type": "markdown",
   "id": "2409e09e-cb79-4de5-99c1-163217871af9",
   "metadata": {},
   "source": [
    "#### **2. Visualize the Membership Functions**"
   ]
  },
  {
   "cell_type": "code",
   "execution_count": null,
   "id": "f71f03fd-8deb-41b1-9d8f-138012af56cb",
   "metadata": {},
   "outputs": [],
   "source": [
    "# Plot the membership functions for temperature\n",
    "plt.figure(figsize=(12, 5))\n",
    "\n",
    "plt.plot(x_temp, temp_cold, label='Cold', color='blue')\n",
    "plt.plot(x_temp, temp_warm, label='Warm', color='green')\n",
    "plt.plot(x_temp, temp_hot, label='Hot', color='red')\n",
    "\n",
    "plt.title('Temperature Membership Functions')\n",
    "plt.xlabel('Temperature (°C)')\n",
    "plt.ylabel('Membership Degree')\n",
    "plt.legend()\n",
    "plt.grid(True)\n",
    "plt.show()"
   ]
  },
  {
   "cell_type": "markdown",
   "id": "59372e9d",
   "metadata": {},
   "source": [
    "#### **3. Perform Fuzzy Inference (Using Rules)**\n",
    "\n",
    "- **Rule 1:** If temperature is **cold**, then fan speed is **low**.  \n",
    "- **Rule 2:** If temperature is **warm**, then fan speed is **medium**.  \n",
    "- **Rule 3:** If temperature is **hot**, then fan speed is **high**."
   ]
  },
  {
   "cell_type": "code",
   "execution_count": null,
   "id": "4769e1db-b83b-4c7e-8557-c3c27f0cb83c",
   "metadata": {
    "jp-MarkdownHeadingCollapsed": true
   },
   "outputs": [],
   "source": [
    "\n",
    "\n",
    "\n",
    "# Example input temperature\n",
    "temp_input = 45\n",
    "\n",
    "# Fuzzification: Get membership degrees\n",
    "cold_level = fuzz.interp_membership(x_temp, temp_cold, temp_input)\n",
    "warm_level = fuzz.interp_membership(x_temp, temp_warm, temp_input)\n",
    "hot_level = fuzz.interp_membership(x_temp, temp_hot, temp_input)\n",
    "\n",
    "print(f\"Cold: {cold_level}, Warm: {warm_level}, Hot: {hot_level}\")\n",
    "\n",
    "# Apply rules (taking the minimum of input membership degrees)\n",
    "activation_low = np.fmin(cold_level, speed_low)\n",
    "activation_medium = np.fmin(warm_level, speed_medium)\n",
    "activation_high = np.fmin(hot_level, speed_high)\n",
    "\n",
    "# Combine the outputs using the maximum (aggregation)"
   ]
  },
  {
   "cell_type": "markdown",
   "id": "ddb7d7ae-e1b1-49ec-9316-9992c9d50e33",
   "metadata": {},
   "source": [
    "#### **4. Defuzzification Using Centroid Method**"
   ]
  },
  {
   "cell_type": "code",
   "execution_count": null,
   "id": "0c6ae555-594b-495a-ab3b-8844ab219cb5",
   "metadata": {},
   "outputs": [],
   "source": [
    "# Defuzzify the aggregated result to get a crisp fan speed\n",
    "fan_speed = fuzz.defuzz(x_speed, aggregated, 'centroid')\n",
    "fan_speed_activation = fuzz.interp_membership(x_speed, aggregated, fan_speed)\n",
    "\n",
    "print(f\"Crisp Fan Speed: {fan_speed:.2f}%\")\n",
    "\n",
    "# Plot the aggregated output and the defuzzified result\n",
    "plt.figure(figsize=(12, 5))\n",
    "\n",
    "plt.plot(x_speed, speed_low, 'b', linewidth=0.5, label='Low')\n",
    "plt.plot(x_speed, speed_medium, 'g', linewidth=0.5, label='Medium')\n",
    "plt.plot(x_speed, speed_high, 'r', linewidth=0.5, label='High')\n",
    "plt.fill_between(x_speed, 0, aggregated, facecolor='orange', alpha=0.7)\n",
    "plt.plot([fan_speed, fan_speed], [0, fan_speed_activation], 'k', linestyle='--', label=f'Crisp Output: {fan_speed:.2f}%')\n",
    "\n",
    "plt.title('Fan Speed Control')\n",
    "plt.xlabel('Fan Speed (%)')\n",
    "plt.ylabel('Membership Degree')\n",
    "plt.legend()\n",
    "plt.grid(True)\n",
    "plt.show()"
   ]
  },
  {
   "cell_type": "markdown",
   "id": "155ac992-40f2-476d-9fe9-048a1bcea84c",
   "metadata": {},
   "source": [
    "### **Explanation**\n",
    "\n",
    "1. **Fuzzification:**\n",
    "- We calculate the **membership degrees** of the input temperature (45°C) for \"Cold\", \"Warm\", and \"Hot\".\n",
    "\n",
    "2. **Inference:**\n",
    "- Using the **rules**, we compute the activation levels for each fan speed (Low, Medium, High).\n",
    "\n",
    "3. **Aggregation:**\n",
    "- The outputs from all rules are **aggregated** using the maximum operation.\n",
    "\n",
    "4. **Defuzzification:**\n",
    "- We use the **centroid method** to calculate the **crisp fan speed**.\n",
    "\n",
    "---\n",
    "\n",
    "### **Output Example**\n",
    "\n",
    "```\n",
    "Cold: 0.1, Warm: 0.8, Hot: 0.0\n",
    "Crisp Fan Speed: 47.62%\n",
    "```\n",
    "\n",
    "---\n",
    "\n",
    "### **Conclusion**\n",
    "\n",
    "The `scikit-fuzzy` library simplifies working with **fuzzy systems**. You can experiment by changing the input temperature, membership functions, and rules to explore how different settings affect the output. This code also visualizes the **fuzzy inference process**, helping you understand the flow from fuzzification to defuzzification."
   ]
  },
  {
   "cell_type": "markdown",
   "id": "277d4779-d332-4ee1-a7aa-529652bff881",
   "metadata": {},
   "source": [
    "# References\n",
    "\n",
    "- [scikit-fuzzy docs](https://scikit-fuzzy.readthedocs.io/en/latest/)\n",
    "- [scikit-fuzzy overview](https://pythonhosted.org/scikit-fuzzy/overview.html)"
   ]
  }
 ],
 "metadata": {
  "kernelspec": {
   "display_name": "Python 3 (ipykernel)",
   "language": "python",
   "name": "python3"
  },
  "language_info": {
   "codemirror_mode": {
    "name": "ipython",
    "version": 3
   },
   "file_extension": ".py",
   "mimetype": "text/x-python",
   "name": "python",
   "nbconvert_exporter": "python",
   "pygments_lexer": "ipython3",
   "version": "3.10.12"
  }
 },
 "nbformat": 4,
 "nbformat_minor": 5
}
