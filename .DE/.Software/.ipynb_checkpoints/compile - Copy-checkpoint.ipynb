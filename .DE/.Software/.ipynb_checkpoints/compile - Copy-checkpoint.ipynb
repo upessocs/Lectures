{
 "cells": [
  {
   "cell_type": "code",
   "execution_count": 1,
   "id": "b98112ab-ab80-4a94-8182-4b16c5338f0e",
   "metadata": {},
   "outputs": [],
   "source": [
    "import pandas as pd\n",
    "import numpy as np\n",
    "import matplotlib as mpl\n",
    "from matplotlib import pyplot as plt\n",
    "import os\n",
    "import sys\n",
    "import openpyxl as xl\n",
    "from openpyxl import load_workbook, workbook,worksheet\n",
    "from datetime import datetime\n"
   ]
  },
  {
   "cell_type": "code",
   "execution_count": 2,
   "id": "c19f4e68-d50a-4daf-a3d4-db77a8fd9a12",
   "metadata": {},
   "outputs": [
    {
     "data": {
      "text/plain": [
       "35"
      ]
     },
     "execution_count": 2,
     "metadata": {},
     "output_type": "execute_result"
    }
   ],
   "source": [
    "rootDir=os.getcwd()\n",
    "inputDir=\"xlsxFilesInput\"\n",
    "outputDir=\"compiledOutput\"\n",
    "renamedDir='renamedInputs'\n",
    "os.chdir(rootDir)\n",
    "os.chdir(inputDir)\n",
    "\n",
    "xlsx_files = [filename for filename in os.listdir() if filename.endswith(\".xlsx\")]\n",
    "len(xlsx_files)"
   ]
  },
  {
   "cell_type": "code",
   "execution_count": 5,
   "id": "076ad2d0-dc72-48b5-a506-661089639bb8",
   "metadata": {},
   "outputs": [],
   "source": [
    "\n",
    "cohorts=[]\n",
    "attendance={}\n",
    "\n",
    "def readandcompile(f,renamedDir=\"renamedInputs\"):\n",
    "    global cohorts \n",
    "    global attendance\n",
    "    df=pd.read_excel(f)\n",
    "\n",
    "\n",
    "    # # Save renamed file\n",
    "    # subject=infodf.iloc[3,1].split(\" (\")[0]\n",
    "    # dateTime=datetime.strptime(str(infodf.iloc[4,1] +\" \" + infodf.iloc[5,1].split(\" -\")[0]) , '%d-%m-%Y %H:%M').strftime(\"%Y-%m-%d %H.%M\")\n",
    "    # newRenamedFileName=subject+ \" \" + dateTime.replace(\":\",\".\") + \".xlsx\"\n",
    "    # newRenamedFilePath= os.path.join(os.getcwd(),newRenamedFileName)\n",
    "    # df.to_excel(newRenamedFilePath)\n",
    "    \n",
    "    \n",
    "    infodf=df.iloc[0:7,0:2]\n",
    "    date=infodf['UPES'].iloc[4]\n",
    "    \n",
    "    \n",
    "    duration=infodf['UPES'].iloc[5]\n",
    "    timestart=duration[0:5]\n",
    "    marker=f\"{date} {timestart}\"\n",
    "    # marker=date\n",
    "    \n",
    "    \n",
    "    datadf=df.iloc[9::,[0,1,2,8]]\n",
    "    datadf.rename(columns = {\"Brand\":\"Cohort\",\"UPES\":\"ID\",\"Unnamed: 2\":'Name',\"Unnamed: 8\":marker}, inplace = True)\n",
    "    \n",
    "    \n",
    "\n",
    "    cohortnew=list(set(datadf.iloc[:,0].tolist()))\n",
    "    cohorts+=cohortnew\n",
    "    cohorts=list(set(cohorts))\n",
    "    \n",
    "    \n",
    "    for cohort in cohorts:\n",
    "        # print(cohort)\n",
    "        if cohort in cohortnew:\n",
    "            if cohort not in attendance.keys():\n",
    "                attendance[cohort]=datadf[(datadf[\"Cohort\"] == cohort )]\n",
    "            else:\n",
    "                attendance[cohort] = pd.merge(attendance[cohort], datadf[(datadf[\"Cohort\"] == cohort )],  how='outer')\n",
    "\n",
    "\n",
    "    \n",
    "    # Save renamed file\n",
    "    subject=infodf.iloc[3,1].split(\" (\")[0]\n",
    "    dateTime=datetime.strptime(str(infodf.iloc[4,1] +\" \" + infodf.iloc[5,1].split(\" -\")[0]) , '%d-%m-%Y %H:%M').strftime(\"%Y-%m-%d %H.%M\")\n",
    "    newRenamedFileName=subject+ \" \" + dateTime.replace(\":\",\".\") + \".xlsx\"\n",
    "    newRenamedFilePath= os.path.join(os.getcwd(),newRenamedFileName)\n",
    "    df.to_excel(newRenamedFilePath)\n",
    "\n",
    "\n",
    "    \n",
    "    return attendance, infodf, datadf\n"
   ]
  },
  {
   "cell_type": "code",
   "execution_count": 6,
   "id": "ea2899c6-da9b-42bb-8c5b-f5f87ab0cc04",
   "metadata": {},
   "outputs": [
    {
     "name": "stdout",
     "output_type": "stream",
     "text": [
      "/mnt/c/Users/prateek.gautam/Downloads/OneDriveSync/OneDrive - Gus Global Services India Pvt. Ltd/DE Attendance/Downloads/compile attendance/xlsxFilesInput\n"
     ]
    }
   ],
   "source": [
    "os.chdir(rootDir)\n",
    "os.chdir(inputDir)\n",
    "\n",
    "\n",
    "print(os.getcwd())\n",
    "# def readandcompile(f):\n",
    "#     global cohorts\n",
    "#     global attendance\n",
    "#     df=pd.read_excel(f)\n",
    "    \n",
    "    \n",
    "#     infodf=df.iloc[0:7,0:2]\n",
    "#     date=infodf['UPES'].iloc[4]\n",
    "    \n",
    "    \n",
    "#     duration=infodf['UPES'].iloc[5]\n",
    "#     timestart=duration[0:5]\n",
    "#     marker=f\"{date} {timestart}\"\n",
    "#     # marker=date\n",
    "    \n",
    "    \n",
    "#     datadf=df.iloc[9::,[0,1,2,8]]\n",
    "#     datadf.rename(columns = {\"Brand\":\"Cohort\",\"UPES\":\"ID\",\"Unnamed: 2\":'Name',\"Unnamed: 8\":marker}, inplace = True)\n",
    "    \n",
    "    \n",
    "\n",
    "#     cohortnew=list(set(datadf.iloc[:,0].tolist()))\n",
    "#     cohorts+=cohortnew\n",
    "#     cohorts=list(set(cohorts))\n",
    "    \n",
    "    \n",
    "#     for cohort in cohorts:\n",
    "#         # print(cohort)\n",
    "#         if cohort in cohortnew:\n",
    "#             if cohort not in attendance.keys():\n",
    "#                 attendance[cohort]=datadf[(datadf[\"Cohort\"] == cohort )]\n",
    "#             else:\n",
    "#                 attendance[cohort] = pd.merge(attendance[cohort], datadf[(datadf[\"Cohort\"] == cohort )],  how='outer')\n",
    "\n",
    "#     return attendance, infodf, datadf\n",
    "    \n",
    "# attendance, infodf, datadf= readandcompile(f)\n",
    "\n",
    "# def saveRenamedFiles(f,infodfrenamedDir):\n",
    "    \n",
    "\n",
    "for f in xlsx_files:\n",
    "    # print(f)\n",
    "    attendance, infodf, datadf= readandcompile(f)\n",
    "    # saveRenamedFiles(f,infodf,renamedDir)\n",
    "\n",
    "attendance;\n"
   ]
  },
  {
   "cell_type": "code",
   "execution_count": 7,
   "id": "3d87a44c-136d-4358-9ff7-f16a40063fa2",
   "metadata": {},
   "outputs": [
    {
     "data": {
      "text/plain": [
       "'10:00'"
      ]
     },
     "execution_count": 7,
     "metadata": {},
     "output_type": "execute_result"
    }
   ],
   "source": [
    "    duration=infodf['UPES'].iloc[5]\n",
    "    timestart=duration[0:5]\n",
    "    timestart\n"
   ]
  },
  {
   "cell_type": "code",
   "execution_count": 8,
   "id": "1112024b-c8d9-4e29-acca-4d14256d504c",
   "metadata": {},
   "outputs": [],
   "source": [
    "def calculateSummary(wdf):\n",
    "    wdf.iloc[:,3:]=wdf.iloc[:,3:].replace({\"P\":1,\"A\":0}).sort_index(axis=1)\n",
    "    totalClass = wdf.iloc[:, 3:].count(axis=1)\n",
    "    totalPresent = round(wdf.iloc[:, 3:].sum(axis=1),0)\n",
    "    Percentage=round(totalPresent/totalClass*100,0)\n",
    "    Percentage\n",
    "    summary={'Total Classes':totalClass,'Total Present':totalPresent,'Percentage':Percentage}\n",
    "    summarydf=pd.DataFrame.from_dict(summary)\n",
    "    return summarydf"
   ]
  },
  {
   "cell_type": "code",
   "execution_count": 9,
   "id": "21d64b02-dcef-436c-8864-fb3adcfe8cf5",
   "metadata": {},
   "outputs": [],
   "source": [
    "# Write Attendance in Files"
   ]
  },
  {
   "cell_type": "code",
   "execution_count": 10,
   "id": "55ce2fbd-e731-425c-8eb9-781c759ea7ef",
   "metadata": {},
   "outputs": [
    {
     "name": "stdout",
     "output_type": "stream",
     "text": [
      "/mnt/c/Users/prateek.gautam/Downloads/OneDriveSync/OneDrive - Gus Global Services India Pvt. Ltd/DE Attendance/Downloads/compile attendance/xlsxFilesInput\n",
      "0\n",
      "/mnt/c/Users/prateek.gautam/Downloads/OneDriveSync/OneDrive - Gus Global Services India Pvt. Ltd/DE Attendance/Downloads/compile attendance\n",
      "0\n"
     ]
    },
    {
     "name": "stderr",
     "output_type": "stream",
     "text": [
      "/run/user/1000/ipykernel_317009/1917426429.py:2: FutureWarning: Downcasting behavior in `replace` is deprecated and will be removed in a future version. To retain the old behavior, explicitly call `result.infer_objects(copy=False)`. To opt-in to the future behavior, set `pd.set_option('future.no_silent_downcasting', True)`\n",
      "  wdf.iloc[:,3:]=wdf.iloc[:,3:].replace({\"P\":1,\"A\":0}).sort_index(axis=1)\n",
      "/run/user/1000/ipykernel_317009/1917426429.py:2: FutureWarning: Downcasting behavior in `replace` is deprecated and will be removed in a future version. To retain the old behavior, explicitly call `result.infer_objects(copy=False)`. To opt-in to the future behavior, set `pd.set_option('future.no_silent_downcasting', True)`\n",
      "  wdf.iloc[:,3:]=wdf.iloc[:,3:].replace({\"P\":1,\"A\":0}).sort_index(axis=1)\n",
      "/run/user/1000/ipykernel_317009/1917426429.py:2: FutureWarning: Downcasting behavior in `replace` is deprecated and will be removed in a future version. To retain the old behavior, explicitly call `result.infer_objects(copy=False)`. To opt-in to the future behavior, set `pd.set_option('future.no_silent_downcasting', True)`\n",
      "  wdf.iloc[:,3:]=wdf.iloc[:,3:].replace({\"P\":1,\"A\":0}).sort_index(axis=1)\n",
      "/run/user/1000/ipykernel_317009/1917426429.py:2: FutureWarning: Downcasting behavior in `replace` is deprecated and will be removed in a future version. To retain the old behavior, explicitly call `result.infer_objects(copy=False)`. To opt-in to the future behavior, set `pd.set_option('future.no_silent_downcasting', True)`\n",
      "  wdf.iloc[:,3:]=wdf.iloc[:,3:].replace({\"P\":1,\"A\":0}).sort_index(axis=1)\n"
     ]
    }
   ],
   "source": [
    "wb=xl.Workbook()\n",
    "print(os.system(\"pwd\"))\n",
    "os.chdir(\"./..\")\n",
    "\n",
    "print(os.system(\"pwd\"))\n",
    "try: \n",
    "    os.system(f\"rm -rf ./{outputDir}\")\n",
    "except:\n",
    "    pass\n",
    "try:\n",
    "    os.mkdir(outputDir)\n",
    "except:\n",
    "    pass\n",
    "os.chdir(outputDir)\n",
    "for cohort in cohorts:\n",
    "    \n",
    "    \n",
    "    \n",
    "    wdf=attendance[cohort]\n",
    "    # wdf.iloc[0, 3:]=wdf.iloc[0, 3:].apply(pd.to_datetime)\n",
    "    # wdf.iloc[:, 3:]=wdf.iloc[:, 3:].sort_values(axis=1)\n",
    "    summary=calculateSummary(wdf)\n",
    "    wdf=pd.concat([wdf,summary],axis=1)\n",
    "    wdf.to_excel(cohort+\".xlsx\")\n",
    "    wdf.to_csv(cohort+\".csv\")\n",
    "\n",
    "    \n",
    "\n",
    "os.chdir(\"./..\")"
   ]
  },
  {
   "cell_type": "code",
   "execution_count": null,
   "id": "1e032cd2-ca9f-4462-937c-f35e28376f13",
   "metadata": {},
   "outputs": [],
   "source": [
    "len(xlsx_files)"
   ]
  },
  {
   "cell_type": "code",
   "execution_count": null,
   "id": "1f945333-6b14-43d1-a2bd-60e00d0c779f",
   "metadata": {},
   "outputs": [],
   "source": [
    "wdf=attendance[cohorts[0]]\n",
    "\n",
    "wdf.iloc[0,3:]\n",
    "\n",
    "wdf.iloc[0, 3:]=wdf.iloc[0, 3:].apply(pd.to_datetime)\n",
    "\n",
    "wdf.iloc[:, 3:]"
   ]
  },
  {
   "cell_type": "code",
   "execution_count": null,
   "id": "a06e0670-d710-4f09-9679-d94d9347f74c",
   "metadata": {},
   "outputs": [],
   "source": [
    "\n",
    "os.chdir(\"./..\")"
   ]
  },
  {
   "cell_type": "code",
   "execution_count": null,
   "id": "e80fbd7d-3a03-496c-8a3b-b855f6309fc9",
   "metadata": {},
   "outputs": [],
   "source": []
  }
 ],
 "metadata": {
  "kernelspec": {
   "display_name": "Python 3 (ipykernel)",
   "language": "python",
   "name": "python3"
  },
  "language_info": {
   "codemirror_mode": {
    "name": "ipython",
    "version": 3
   },
   "file_extension": ".py",
   "mimetype": "text/x-python",
   "name": "python",
   "nbconvert_exporter": "python",
   "pygments_lexer": "ipython3",
   "version": "3.11.8"
  }
 },
 "nbformat": 4,
 "nbformat_minor": 5
}
