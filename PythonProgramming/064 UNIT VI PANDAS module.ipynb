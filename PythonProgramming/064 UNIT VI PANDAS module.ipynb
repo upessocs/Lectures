{
 "cells": [
  {
   "cell_type": "markdown",
   "id": "f9033f0a-91e1-4045-b1d4-ef82245180ca",
   "metadata": {},
   "source": [
    "# `Pandas`\n",
    "\n",
    "Pandas is a powerful library for **data analysis and manipulation** in Python. Let's dive in step-by-step.\n",
    "\n",
    "\n",
    "# **1. Overview of Pandas**\n",
    "- **Pandas** provides easy-to-use data structures like **Series** and **DataFrames**.\n",
    "- It allows for **data manipulation**, **cleaning**, **analysis**, and **exploration**.\n",
    "- Built on **NumPy**, Pandas works well with **structured data**, such as CSV files, SQL tables, or Excel sheets.\n",
    "\n",
    "---\n",
    "\n",
    "# **2. Setup and Installation**\n",
    "If you don’t have Pandas installed, run:\n",
    "```bash\n",
    "pip install pandas\n",
    "```\n",
    "\n",
    "Import it using:\n",
    "```python"
   ]
  },
  {
   "cell_type": "code",
   "execution_count": 1,
   "id": "b6f05bdb-75da-4925-85b6-98189a42a16d",
   "metadata": {},
   "outputs": [],
   "source": [
    "import pandas as pd"
   ]
  },
  {
   "cell_type": "markdown",
   "id": "c509b967-bd3e-46fc-80d8-cf1bad201c4a",
   "metadata": {},
   "source": [
    "\n",
    "\n",
    "# **3. Data Structures in Pandas**\n",
    "\n",
    "### **a) Series**: A **1D array** similar to a list or NumPy array.\n"
   ]
  },
  {
   "cell_type": "code",
   "execution_count": 2,
   "id": "b6946522-a5b3-4f70-b41d-54125d21728e",
   "metadata": {},
   "outputs": [
    {
     "name": "stdout",
     "output_type": "stream",
     "text": [
      "0    10\n",
      "1    20\n",
      "2    30\n",
      "3    40\n",
      "dtype: int64\n"
     ]
    }
   ],
   "source": [
    "import pandas as pd\n",
    "\n",
    "# Create a simple series\n",
    "s = pd.Series([10, 20, 30, 40])\n",
    "print(s)"
   ]
  },
  {
   "cell_type": "markdown",
   "id": "5712036d-fe7a-487a-95d7-55b2a15161b5",
   "metadata": {},
   "source": [
    "- **Index**: The left column (`0, 1, 2, 3`) represents the index.\n",
    "- **Values**: The right column contains the data values.\n",
    "\n",
    "\n",
    "\n",
    "### **b) DataFrame**: A **2D table** with labeled rows and columns."
   ]
  },
  {
   "cell_type": "code",
   "execution_count": 3,
   "id": "417ee249-b808-431b-99e4-c734dac6ff84",
   "metadata": {},
   "outputs": [
    {
     "name": "stdout",
     "output_type": "stream",
     "text": [
      "      Name  Age         City\n",
      "0    Alice   24     New York\n",
      "1      Bob   27  Los Angeles\n",
      "2  Charlie   22      Chicago\n"
     ]
    }
   ],
   "source": [
    "data = {\n",
    "    'Name': ['Alice', 'Bob', 'Charlie'],\n",
    "    'Age': [24, 27, 22],\n",
    "    'City': ['New York', 'Los Angeles', 'Chicago']\n",
    "}\n",
    "\n",
    "df = pd.DataFrame(data)\n",
    "print(df)"
   ]
  },
  {
   "cell_type": "markdown",
   "id": "cd26a7b9-c0f6-4410-978b-014ecbf5ae90",
   "metadata": {},
   "source": [
    "# **4. Indexing and Selecting Data**\n",
    "\n",
    "### **Selecting Columns**"
   ]
  },
  {
   "cell_type": "code",
   "execution_count": 4,
   "id": "f380c55d-a663-46ce-9cf7-14d2f64b5a18",
   "metadata": {},
   "outputs": [
    {
     "name": "stdout",
     "output_type": "stream",
     "text": [
      "0      Alice\n",
      "1        Bob\n",
      "2    Charlie\n",
      "Name: Name, dtype: object\n",
      "      Name  Age\n",
      "0    Alice   24\n",
      "1      Bob   27\n",
      "2  Charlie   22\n"
     ]
    }
   ],
   "source": [
    "# Select a single column\n",
    "print(df['Name'])\n",
    "\n",
    "# Select multiple columns\n",
    "print(df[['Name', 'Age']])"
   ]
  },
  {
   "cell_type": "markdown",
   "id": "dfcd9985-c84d-453c-9ed3-d878530cdb9a",
   "metadata": {},
   "source": [
    "### **Selecting Rows by Index**"
   ]
  },
  {
   "cell_type": "code",
   "execution_count": 5,
   "id": "ea7dc821-a7c0-446e-9dd8-97dd2d47aed4",
   "metadata": {},
   "outputs": [
    {
     "name": "stdout",
     "output_type": "stream",
     "text": [
      "    Name  Age         City\n",
      "0  Alice   24     New York\n",
      "1    Bob   27  Los Angeles\n",
      "Name            Bob\n",
      "Age              27\n",
      "City    Los Angeles\n",
      "Name: 1, dtype: object\n"
     ]
    }
   ],
   "source": [
    "# Select first two rows\n",
    "print(df.iloc[:2])\n",
    "\n",
    "# Select rows by label index\n",
    "print(df.loc[1])"
   ]
  },
  {
   "cell_type": "markdown",
   "id": "5bc05bd7-ec0b-4bd0-b484-e9a91ca363e0",
   "metadata": {},
   "source": [
    "### **Boolean Indexing**"
   ]
  },
  {
   "cell_type": "markdown",
   "id": "98dfcede-9b19-47f6-99fd-60cfcac0a9ee",
   "metadata": {},
   "source": [
    "# Select rows where Age > 23"
   ]
  },
  {
   "cell_type": "code",
   "execution_count": 6,
   "id": "65077eda-0bc9-4998-aed1-01c7905834a7",
   "metadata": {},
   "outputs": [
    {
     "name": "stdout",
     "output_type": "stream",
     "text": [
      "    Name  Age         City\n",
      "0  Alice   24     New York\n",
      "1    Bob   27  Los Angeles\n"
     ]
    }
   ],
   "source": [
    "print(df[df['Age'] > 23])"
   ]
  },
  {
   "cell_type": "markdown",
   "id": "2c9e4fd3-0e95-4c7a-93ce-0af37643d532",
   "metadata": {},
   "source": [
    "# **5. Groupby Operations**\n",
    "Pandas **`groupby()`** is used to group data by a certain column and apply aggregate functions."
   ]
  },
  {
   "cell_type": "code",
   "execution_count": 7,
   "id": "a66a740f-870e-42e0-a249-0c100c92c949",
   "metadata": {},
   "outputs": [
    {
     "name": "stdout",
     "output_type": "stream",
     "text": [
      "Department\n",
      "Finance    58000.0\n",
      "HR         51000.0\n",
      "IT         61000.0\n",
      "Name: Salary, dtype: float64\n"
     ]
    }
   ],
   "source": [
    "data = {\n",
    "    'Department': ['HR', 'HR', 'IT', 'IT', 'Finance'],\n",
    "    'Employee': ['Alice', 'Bob', 'Charlie', 'David', 'Eve'],\n",
    "    'Salary': [50000, 52000, 60000, 62000, 58000]\n",
    "}\n",
    "df = pd.DataFrame(data)\n",
    "\n",
    "# Group by Department and calculate the mean salary\n",
    "grouped = df.groupby('Department')['Salary'].mean()\n",
    "print(grouped)"
   ]
  },
  {
   "cell_type": "code",
   "execution_count": null,
   "id": "c1c2116b-fbba-48e6-abe0-daed8ab3e5ae",
   "metadata": {},
   "outputs": [],
   "source": []
  },
  {
   "cell_type": "markdown",
   "id": "df1d3a75-bcab-462a-a929-49446d3b1763",
   "metadata": {},
   "source": [
    "\n",
    "\n",
    "# **6. Reshaping Data**\n",
    "\n",
    "### **Pivot Table**\n",
    "Pivot tables allow you to **rearrange data** based on unique values in a column.\n",
    "\n"
   ]
  },
  {
   "cell_type": "code",
   "execution_count": 8,
   "id": "98589ceb-a46d-4895-977b-6c810a964e20",
   "metadata": {},
   "outputs": [
    {
     "name": "stdout",
     "output_type": "stream",
     "text": [
      "Year         2019  2020\n",
      "City                   \n",
      "Chicago       NaN   2.7\n",
      "Los Angeles   3.9   NaN\n",
      "New York      8.4   8.3\n"
     ]
    }
   ],
   "source": [
    "data = {\n",
    "    'City': ['New York', 'Los Angeles', 'New York', 'Chicago'],\n",
    "    'Year': [2019, 2019, 2020, 2020],\n",
    "    'Population': [8.4, 3.9, 8.3, 2.7]\n",
    "}\n",
    "df = pd.DataFrame(data)\n",
    "\n",
    "# Create a pivot table with 'Year' as columns\n",
    "pivot = df.pivot_table(values='Population', index='City', columns='Year')\n",
    "print(pivot)"
   ]
  },
  {
   "cell_type": "markdown",
   "id": "7bc5a046-5e26-41c1-8d1b-24750921976b",
   "metadata": {},
   "source": [
    "### **Melt Function**: Unpivot a DataFrame from wide to long format."
   ]
  },
  {
   "cell_type": "code",
   "execution_count": 9,
   "id": "c2e9e386-6358-41ee-89cd-007ad0339a28",
   "metadata": {},
   "outputs": [
    {
     "name": "stdout",
     "output_type": "stream",
     "text": [
      "          City    variable   value\n",
      "0     New York        Year  2019.0\n",
      "1  Los Angeles        Year  2019.0\n",
      "2     New York        Year  2020.0\n",
      "3      Chicago        Year  2020.0\n",
      "4     New York  Population     8.4\n",
      "5  Los Angeles  Population     3.9\n",
      "6     New York  Population     8.3\n",
      "7      Chicago  Population     2.7\n"
     ]
    }
   ],
   "source": [
    "# Melt the DataFrame\n",
    "melted = pd.melt(df, id_vars=['City'], value_vars=['Year', 'Population'])\n",
    "print(melted)"
   ]
  },
  {
   "cell_type": "code",
   "execution_count": null,
   "id": "c3e88e1b-03de-44da-a421-74c679071e20",
   "metadata": {},
   "outputs": [],
   "source": []
  },
  {
   "cell_type": "markdown",
   "id": "4b15bca1-dc33-4b11-a5d4-5cb79d6e5f00",
   "metadata": {},
   "source": [
    "\n",
    "# **Example: Q & A Assignment Using Pandas**\n",
    "\n",
    "### **Q1: Create a DataFrame and Filter Employees with Salary > 60000.**\n",
    "```python"
   ]
  },
  {
   "cell_type": "code",
   "execution_count": 10,
   "id": "e763049d-e149-40fe-8711-933bbc7205d6",
   "metadata": {},
   "outputs": [
    {
     "name": "stdout",
     "output_type": "stream",
     "text": [
      "      Name Department  Salary\n",
      "2  Charlie         IT   62000\n"
     ]
    }
   ],
   "source": [
    "import pandas as pd\n",
    "\n",
    "data = {\n",
    "    'Name': ['Alice', 'Bob', 'Charlie', 'David'],\n",
    "    'Department': ['IT', 'HR', 'IT', 'Finance'],\n",
    "    'Salary': [50000, 52000, 62000, 58000]\n",
    "}\n",
    "df = pd.DataFrame(data)\n",
    "\n",
    "# Filter employees with Salary > 60000\n",
    "high_salary = df[df['Salary'] > 60000]\n",
    "print(high_salary)"
   ]
  },
  {
   "cell_type": "markdown",
   "id": "5397a614-29af-45fc-8603-a6ddc1d3e4a6",
   "metadata": {},
   "source": [
    "### **Q2: Group the Following Data by Department and Find the Total Salary.**"
   ]
  },
  {
   "cell_type": "code",
   "execution_count": 11,
   "id": "27ba8232-cee9-4eb5-92e2-b9c2311284de",
   "metadata": {},
   "outputs": [
    {
     "name": "stdout",
     "output_type": "stream",
     "text": [
      "Department\n",
      "Finance     58000\n",
      "HR         102000\n",
      "IT         122000\n",
      "Name: Salary, dtype: int64\n"
     ]
    }
   ],
   "source": [
    "data = {\n",
    "    'Department': ['HR', 'HR', 'IT', 'IT', 'Finance'],\n",
    "    'Employee': ['Alice', 'Bob', 'Charlie', 'David', 'Eve'],\n",
    "    'Salary': [50000, 52000, 60000, 62000, 58000]\n",
    "}\n",
    "df = pd.DataFrame(data)\n",
    "\n",
    "# Group by Department and calculate the total salary\n",
    "grouped = df.groupby('Department')['Salary'].sum()\n",
    "print(grouped)"
   ]
  },
  {
   "cell_type": "markdown",
   "id": "803c4cfb-308c-40a3-9b96-0b03030e7de0",
   "metadata": {},
   "source": [
    "### **Q3: Reshape the Data Below Using Pivot.**"
   ]
  },
  {
   "cell_type": "code",
   "execution_count": 12,
   "id": "0e1941b4-2b57-48cd-83e4-62df599a0cce",
   "metadata": {},
   "outputs": [
    {
     "name": "stdout",
     "output_type": "stream",
     "text": [
      "Year      2019  2020\n",
      "City                \n",
      "Chicago    150   180\n",
      "New York   200   250\n"
     ]
    }
   ],
   "source": [
    "data2 = {\n",
    "    'City': ['New York', 'New York', 'Chicago', 'Chicago'],\n",
    "    'Year': [2019, 2020, 2019, 2020],\n",
    "    'Sales': [200, 250, 150, 180]\n",
    "}\n",
    "df2 = pd.DataFrame(data2)\n",
    "\n",
    "# Create a pivot table\n",
    "pivot = df2.pivot(index='City', columns='Year', values='Sales')\n",
    "print(pivot)"
   ]
  },
  {
   "cell_type": "markdown",
   "id": "1ea79d96-a36b-4b21-8eef-8bca1ec5daa2",
   "metadata": {},
   "source": [
    "### **Q4: Use Boolean Indexing to Select All Employees in the IT Department.**"
   ]
  },
  {
   "cell_type": "code",
   "execution_count": 13,
   "id": "1963d148-ea4d-439b-99b8-5bfc2f964723",
   "metadata": {},
   "outputs": [
    {
     "name": "stdout",
     "output_type": "stream",
     "text": [
      "  Department Employee  Salary\n",
      "2         IT  Charlie   60000\n",
      "3         IT    David   62000\n"
     ]
    }
   ],
   "source": [
    "# Filter employees in the IT department\n",
    "it_employees = df[df['Department'] == 'IT']\n",
    "print(it_employees)\n",
    "\n",
    "df.to_excel(\"data.xlsx\")"
   ]
  },
  {
   "cell_type": "markdown",
   "id": "65e7e607-28ca-4a39-81d0-15b78e4a6065",
   "metadata": {},
   "source": [
    "\n",
    "# **Summary**\n",
    "\n",
    "| **Topic**                | **Description** |\n",
    "|--------------------------|-----------------|\n",
    "| **Data Structures**      | `Series` (1D) and `DataFrame` (2D). |\n",
    "| **Indexing & Selection** | Access rows/columns with `.iloc`, `.loc`, or boolean indexing. |\n",
    "| **Groupby**              | Group by a column and apply aggregate functions. |\n",
    "| **Reshaping**            | Use `pivot` and `melt` to restructure data. |\n",
    "\n",
    "---\n",
    "\n",
    "Here’s a guide on how to use **Pandas to read, modify, and save Excel files**. Pandas offers convenient functions to interact with **Excel spreadsheets**, such as `read_excel()` and `to_excel()`.\n",
    "\n",
    "\n",
    "\n",
    "# **1. Install Dependencies**\n",
    "To handle Excel files, you need **openpyxl** (for `.xlsx`) and **xlrd** (for `.xls`). Install them using:\n",
    "```bash\n",
    "pip install pandas openpyxl xlrd\n",
    "```"
   ]
  },
  {
   "cell_type": "markdown",
   "id": "95b782c8-57a2-44d0-b95c-ec89822eb8c7",
   "metadata": {},
   "source": [
    "\n",
    "\n",
    "# **2. Reading an Excel File**\n",
    "\n",
    "### **Reading the Entire File**\n"
   ]
  },
  {
   "cell_type": "code",
   "execution_count": 14,
   "id": "aa34a3b7-7dc2-465d-897b-ef1383705a15",
   "metadata": {},
   "outputs": [
    {
     "name": "stdout",
     "output_type": "stream",
     "text": [
      "   Unnamed: 0 Department Employee  Salary\n",
      "0           0         HR    Alice   50000\n",
      "1           1         HR      Bob   52000\n",
      "2           2         IT  Charlie   60000\n",
      "3           3         IT    David   62000\n",
      "4           4    Finance      Eve   58000\n"
     ]
    }
   ],
   "source": [
    "import pandas as pd\n",
    "\n",
    "# Read the Excel file (use the appropriate sheet name or index)\n",
    "df = pd.read_excel('data.xlsx', sheet_name='Sheet1')  # Or sheet_name=0 for the first sheet\n",
    "print(df)"
   ]
  },
  {
   "cell_type": "markdown",
   "id": "7f5a7bfd-0582-4b03-b003-24e5aac5d2c2",
   "metadata": {},
   "source": [
    "\n",
    "\n",
    "### **Reading Specific Columns**\n"
   ]
  },
  {
   "cell_type": "code",
   "execution_count": 15,
   "id": "53b26f92-5f76-48b8-a9ae-3f09a0eecc8c",
   "metadata": {},
   "outputs": [
    {
     "name": "stdout",
     "output_type": "stream",
     "text": [
      "  Department  Salary\n",
      "0         HR   50000\n",
      "1         HR   52000\n",
      "2         IT   60000\n",
      "3         IT   62000\n",
      "4    Finance   58000\n"
     ]
    }
   ],
   "source": [
    "# Read only the 'Name' and 'Age' columns\n",
    "df = pd.read_excel('data.xlsx', usecols=['Department', 'Salary'])\n",
    "print(df)"
   ]
  },
  {
   "cell_type": "markdown",
   "id": "de39a9fc-8998-4ea4-a58d-9ed7c80174d4",
   "metadata": {},
   "source": [
    "\n",
    "\n",
    "### **Reading Multiple Sheets**\n"
   ]
  },
  {
   "cell_type": "code",
   "execution_count": 16,
   "id": "15492366-5ac8-4714-afc5-4804c7e4ee91",
   "metadata": {},
   "outputs": [
    {
     "name": "stdout",
     "output_type": "stream",
     "text": [
      "Sheet: Sheet1\n",
      "   Unnamed: 0 Department Employee  Salary\n",
      "0           0         HR    Alice   50000\n",
      "1           1         HR      Bob   52000\n",
      "2           2         IT  Charlie   60000\n",
      "3           3         IT    David   62000\n",
      "4           4    Finance      Eve   58000\n"
     ]
    }
   ],
   "source": [
    "# Load multiple sheets into a dictionary\n",
    "sheets = pd.read_excel('data.xlsx', sheet_name=None)  # None loads all sheets\n",
    "for sheet_name, sheet_data in sheets.items():\n",
    "    print(f'Sheet: {sheet_name}')\n",
    "    print(sheet_data)"
   ]
  },
  {
   "cell_type": "markdown",
   "id": "dad24e01-cb76-40c5-bfd7-9e105cfa10b2",
   "metadata": {},
   "source": [
    "\n",
    "\n",
    "# **3. Modifying Excel Data**\n",
    "\n",
    "### **Adding a New Column**\n"
   ]
  },
  {
   "cell_type": "code",
   "execution_count": 17,
   "id": "8b55cfa7-02a8-4f3b-98f1-a57f1f78e96f",
   "metadata": {},
   "outputs": [
    {
     "data": {
      "text/html": [
       "<div>\n",
       "<style scoped>\n",
       "    .dataframe tbody tr th:only-of-type {\n",
       "        vertical-align: middle;\n",
       "    }\n",
       "\n",
       "    .dataframe tbody tr th {\n",
       "        vertical-align: top;\n",
       "    }\n",
       "\n",
       "    .dataframe thead th {\n",
       "        text-align: right;\n",
       "    }\n",
       "</style>\n",
       "<table border=\"1\" class=\"dataframe\">\n",
       "  <thead>\n",
       "    <tr style=\"text-align: right;\">\n",
       "      <th></th>\n",
       "      <th>Department</th>\n",
       "      <th>Salary</th>\n",
       "    </tr>\n",
       "  </thead>\n",
       "  <tbody>\n",
       "    <tr>\n",
       "      <th>0</th>\n",
       "      <td>HR</td>\n",
       "      <td>50000</td>\n",
       "    </tr>\n",
       "    <tr>\n",
       "      <th>1</th>\n",
       "      <td>HR</td>\n",
       "      <td>52000</td>\n",
       "    </tr>\n",
       "    <tr>\n",
       "      <th>2</th>\n",
       "      <td>IT</td>\n",
       "      <td>60000</td>\n",
       "    </tr>\n",
       "    <tr>\n",
       "      <th>3</th>\n",
       "      <td>IT</td>\n",
       "      <td>62000</td>\n",
       "    </tr>\n",
       "    <tr>\n",
       "      <th>4</th>\n",
       "      <td>Finance</td>\n",
       "      <td>58000</td>\n",
       "    </tr>\n",
       "  </tbody>\n",
       "</table>\n",
       "</div>"
      ],
      "text/plain": [
       "  Department  Salary\n",
       "0         HR   50000\n",
       "1         HR   52000\n",
       "2         IT   60000\n",
       "3         IT   62000\n",
       "4    Finance   58000"
      ]
     },
     "execution_count": 17,
     "metadata": {},
     "output_type": "execute_result"
    }
   ],
   "source": [
    "df"
   ]
  },
  {
   "cell_type": "code",
   "execution_count": 18,
   "id": "afae987e-76d4-49aa-be80-4815ffb823fb",
   "metadata": {},
   "outputs": [
    {
     "name": "stdout",
     "output_type": "stream",
     "text": [
      "  Department  Salary  New Salary\n",
      "0         HR   50000      550000\n",
      "1         HR   52000      552000\n",
      "2         IT   60000      560000\n",
      "3         IT   62000      562000\n",
      "4    Finance   58000      558000\n"
     ]
    }
   ],
   "source": [
    "df['New Salary'] = df['Salary'] + 500000  # Example: Add 5 to the 'Age' column\n",
    "print(df)"
   ]
  },
  {
   "cell_type": "markdown",
   "id": "4140b1c2-3bfe-4a7b-a387-bf974f3d041d",
   "metadata": {},
   "source": [
    "\n",
    "\n",
    "### **Filtering Data**\n"
   ]
  },
  {
   "cell_type": "code",
   "execution_count": 19,
   "id": "74a609fa-9689-40d6-970f-753ebba89d2d",
   "metadata": {},
   "outputs": [
    {
     "name": "stdout",
     "output_type": "stream",
     "text": [
      "  Department  Salary  New Salary\n",
      "2         IT   60000      560000\n",
      "3         IT   62000      562000\n"
     ]
    }
   ],
   "source": [
    "# Filter rows where Age > 25\n",
    "filtered_df = df[df['Salary'] >= 60000]\n",
    "print(filtered_df)"
   ]
  },
  {
   "cell_type": "markdown",
   "id": "8b98e417-051e-4bdc-bc40-a27f6dd35a2d",
   "metadata": {},
   "source": [
    "\n",
    "\n",
    "\n",
    "### **Updating Values**\n"
   ]
  },
  {
   "cell_type": "code",
   "execution_count": 20,
   "id": "01ff31bb-58ab-4f3e-b9fb-6ed31d1badba",
   "metadata": {},
   "outputs": [
    {
     "name": "stdout",
     "output_type": "stream",
     "text": [
      "  Department  Salary  New Salary\n",
      "0         HR   60000      550000\n",
      "1         HR   62000      552000\n",
      "2         IT   70000      560000\n",
      "3         IT   72000      562000\n",
      "4    Finance   68000      558000\n"
     ]
    }
   ],
   "source": [
    "# Update all 'Age' values by adding 1\n",
    "df['Salary'] = df['Salary'] + 10000\n",
    "print(df)"
   ]
  },
  {
   "cell_type": "markdown",
   "id": "f773d41e-6cf7-4cf6-9e49-1879c357a1e2",
   "metadata": {},
   "source": [
    "\n",
    "\n",
    "# **4. Saving Data to an Excel File**\n",
    "\n",
    "### **Saving to a New Excel File**\n"
   ]
  },
  {
   "cell_type": "code",
   "execution_count": 21,
   "id": "1bb7c82b-ab34-4b2b-af5d-8116792518cb",
   "metadata": {},
   "outputs": [],
   "source": [
    "df.to_excel('modified_data.xlsx', index=False)  # Disable the default index column"
   ]
  },
  {
   "cell_type": "markdown",
   "id": "4d6d3b2c-d10d-4f99-bc40-117800629769",
   "metadata": {},
   "source": [
    "### **Saving to a Specific Sheet**"
   ]
  },
  {
   "cell_type": "code",
   "execution_count": 22,
   "id": "7e49b5c9-187d-4303-b2df-a503fe828c8a",
   "metadata": {},
   "outputs": [],
   "source": [
    "df.to_excel('modified_data.xlsx', sheet_name='Modified Data', index=False)"
   ]
  },
  {
   "cell_type": "markdown",
   "id": "6f447f5a-9874-4f48-be1a-012b6c670a40",
   "metadata": {},
   "source": [
    "### **Appending Data to an Existing Excel File**\n",
    "You can use **ExcelWriter** to manage multiple sheets:"
   ]
  },
  {
   "cell_type": "code",
   "execution_count": 23,
   "id": "787a19e3-07e6-4120-873c-9486b6ad7559",
   "metadata": {},
   "outputs": [],
   "source": [
    "with pd.ExcelWriter('modified_data.xlsx', engine='openpyxl', mode='a') as writer:\n",
    "    df.to_excel(writer, sheet_name='Appended Data', index=False)"
   ]
  },
  {
   "cell_type": "markdown",
   "id": "e93f2010-6cb9-449d-8543-765ca6a8e50f",
   "metadata": {},
   "source": [
    "# **5. Handling Excel Files with Multiple Sheets**\n",
    "\n",
    "### **Example: Read from One Sheet, Modify, and Save to Another Sheet**"
   ]
  },
  {
   "cell_type": "code",
   "execution_count": 24,
   "id": "9cffe88c-532d-40e6-888c-eaa542ccf3e7",
   "metadata": {},
   "outputs": [],
   "source": [
    "# Read from 'Sheet1'\n",
    "df = pd.read_excel('data.xlsx', sheet_name='Sheet1')\n",
    "\n",
    "# Modify data: Add 10 to the 'Salary' column\n",
    "df['Salary'] = df['Salary'] + 20000\n",
    "\n",
    "# Save the modified data to 'Sheet3'\n",
    "with pd.ExcelWriter('data.xlsx', engine='openpyxl', mode='a') as writer:\n",
    "    df.to_excel(writer, sheet_name='Sheet3', index=False)"
   ]
  },
  {
   "cell_type": "markdown",
   "id": "5b2bf09d-4d84-4bf1-bea2-8bbf9dc19433",
   "metadata": {},
   "source": [
    "\n",
    "\n",
    "# **6. Advanced Example: Combining Multiple Excel Files**\n",
    "\n",
    "If you have multiple Excel files, you can **merge them into one**.\n",
    "\n"
   ]
  },
  {
   "cell_type": "code",
   "execution_count": 25,
   "id": "d453ddde-2aef-4c84-a40a-216ff49bb235",
   "metadata": {},
   "outputs": [],
   "source": [
    "import glob\n",
    "\n",
    "# Get all Excel files in the current directory\n",
    "excel_files = glob.glob('*.xlsx')\n",
    "\n",
    "# Read and combine all files into a single DataFrame\n",
    "combined_df = pd.concat([pd.read_excel(file) for file in excel_files])\n",
    "\n",
    "# Save the combined data to a new Excel file\n",
    "combined_df.to_excel('combined_data.xlsx', index=False)"
   ]
  },
  {
   "cell_type": "markdown",
   "id": "7f93f373-d4ee-423d-9e55-9cccdc268e7d",
   "metadata": {},
   "source": [
    "# **Summary**\n",
    "\n",
    "| **Operation**        | **Function**                |\n",
    "|----------------------|-----------------------------|\n",
    "| **Read Excel File**  | `pd.read_excel()`           |\n",
    "| **Write Excel File** | `df.to_excel()`             |\n",
    "| **Manage Sheets**    | `ExcelWriter` for multiple sheets |\n",
    "| **Filter Data**      | Boolean indexing            |\n",
    "| **Update Values**    | Direct column modification |"
   ]
  }
 ],
 "metadata": {
  "kernelspec": {
   "display_name": "Python 3 (ipykernel)",
   "language": "python",
   "name": "python3"
  },
  "language_info": {
   "codemirror_mode": {
    "name": "ipython",
    "version": 3
   },
   "file_extension": ".py",
   "mimetype": "text/x-python",
   "name": "python",
   "nbconvert_exporter": "python",
   "pygments_lexer": "ipython3",
   "version": "3.11.3"
  }
 },
 "nbformat": 4,
 "nbformat_minor": 5
}
