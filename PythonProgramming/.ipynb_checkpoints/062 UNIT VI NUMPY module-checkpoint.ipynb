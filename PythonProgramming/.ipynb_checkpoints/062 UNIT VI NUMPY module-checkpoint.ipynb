{
 "cells": [
  {
   "cell_type": "markdown",
   "id": "9c0fe18b-09f2-4483-9935-5c9b1b8845a3",
   "metadata": {},
   "source": [
    "# `Numpy` \n",
    "\n",
    "**NumPy**, one of the most popular libraries for scientific computing in Python, through a detailed breakdown of its core concepts.\n",
    "\n",
    "# **1. NumPy Overview**\n",
    "- **NumPy** stands for **Numerical Python**.\n",
    "- It provides support for **multi-dimensional arrays** and **matrices** along with a wide variety of mathematical functions.\n",
    "#### **Why use NumPy?**\n",
    "- Faster than native Python lists.\n",
    "- Uses less memory.\n",
    "- Supports **vectorized operations**, which makes computations more efficient.\n",
    "\n",
    "---\n",
    "\n",
    "# **2. Setup**\n",
    "If you don’t have NumPy installed, run:\n",
    "\n",
    "```bash\n",
    "pip install numpy\n",
    "```\n",
    "\n",
    "After installation, import it into your code:"
   ]
  },
  {
   "cell_type": "code",
   "execution_count": 1,
   "id": "2ac58788-97ef-4ccf-a44e-8974c1a751e4",
   "metadata": {},
   "outputs": [],
   "source": [
    "import numpy as np\n"
   ]
  },
  {
   "cell_type": "markdown",
   "id": "8639e9d3-a93f-4e04-9df8-3cf3ba4aa53a",
   "metadata": {},
   "source": []
  },
  {
   "cell_type": "markdown",
   "id": "08a997d0-d525-4ac3-8ca2-f4d670ff5ba2",
   "metadata": {},
   "source": [
    "# **3. NumPy Data Types**\n",
    "NumPy supports several **data types** (called `dtypes`), such as:\n",
    "- `int32`, `int64`: 32-bit and 64-bit integers\n",
    "- `float32`, `float64`: 32-bit and 64-bit floating-point numbers\n",
    "- `bool`: Boolean values (`True` or `False`)\n",
    "- `complex`: Complex numbers\n",
    "\n",
    "You can specify the `dtype` while creating arrays:\n",
    "\n",
    "```python"
   ]
  },
  {
   "cell_type": "code",
   "execution_count": 2,
   "id": "93da6064-49e3-4aac-aab6-4052305c04bc",
   "metadata": {},
   "outputs": [
    {
     "name": "stdout",
     "output_type": "stream",
     "text": [
      "[1. 2. 3.]\n",
      "Data type: float64\n"
     ]
    }
   ],
   "source": [
    "arr = np.array([1, 2, 3], dtype=np.float64)\n",
    "print(arr)\n",
    "print(\"Data type:\", arr.dtype)"
   ]
  },
  {
   "cell_type": "markdown",
   "id": "be203dd4-2005-45e8-b4f8-7d0b7507672e",
   "metadata": {},
   "source": [
    "# **4. Basic Operators**\n",
    "NumPy provides **element-wise operations** on arrays:\n",
    "\n",
    "### Example: Arithmetic Operations\n",
    "```python"
   ]
  },
  {
   "cell_type": "code",
   "execution_count": 3,
   "id": "aa361c22-e1bb-4adf-9d2b-5ba4aa2ad5de",
   "metadata": {},
   "outputs": [
    {
     "name": "stdout",
     "output_type": "stream",
     "text": [
      "Addition: [5 7 9]\n",
      "Subtraction: [-3 -3 -3]\n",
      "Multiplication: [ 4 10 18]\n",
      "Division: [0.25 0.4  0.5 ]\n"
     ]
    }
   ],
   "source": [
    "a = np.array([1, 2, 3])\n",
    "b = np.array([4, 5, 6])\n",
    "\n",
    "print(\"Addition:\", a + b)\n",
    "print(\"Subtraction:\", a - b)\n",
    "print(\"Multiplication:\", a * b)\n",
    "print(\"Division:\", a / b)"
   ]
  },
  {
   "cell_type": "markdown",
   "id": "504e92ff-ea20-41d1-a919-0f12a3bb862d",
   "metadata": {},
   "source": [
    "# **5. Array Indexing and Slicing**\n",
    "NumPy arrays allow **indexing** and **slicing**, just like Python lists.\n",
    "\n",
    "### Example: Indexing and Slicing\n",
    "```python"
   ]
  },
  {
   "cell_type": "code",
   "execution_count": 4,
   "id": "d1f70b8f-c7c0-4694-9174-638ce8c13880",
   "metadata": {},
   "outputs": [
    {
     "name": "stdout",
     "output_type": "stream",
     "text": [
      "First Element: 10\n",
      "Last Element: 50\n",
      "First Three Elements: [10 20 30]\n",
      "Elements from Index 2 to 4: [30 40 50]\n"
     ]
    }
   ],
   "source": [
    "arr = np.array([10, 20, 30, 40, 50])\n",
    "\n",
    "# Access elements by index\n",
    "print(\"First Element:\", arr[0])\n",
    "print(\"Last Element:\", arr[-1])\n",
    "\n",
    "# Slicing\n",
    "print(\"First Three Elements:\", arr[:3])\n",
    "print(\"Elements from Index 2 to 4:\", arr[2:5])\n"
   ]
  },
  {
   "cell_type": "markdown",
   "id": "c2fd94bd-2598-4bdd-9e6b-4bb69bd05646",
   "metadata": {},
   "source": [
    "# **6. Broadcasting**\n",
    "**Broadcasting** allows NumPy to perform operations on arrays of different shapes.\n",
    "\n",
    "### Example: Broadcasting Scalars\n",
    "```"
   ]
  },
  {
   "cell_type": "code",
   "execution_count": 5,
   "id": "62413522-7669-4442-bd90-6ad3f82ef6b8",
   "metadata": {},
   "outputs": [
    {
     "name": "stdout",
     "output_type": "stream",
     "text": [
      "Array + 10: [11 12 13]\n"
     ]
    }
   ],
   "source": [
    "arr = np.array([1, 2, 3])\n",
    "print(\"Array + 10:\", arr + 10)"
   ]
  },
  {
   "cell_type": "markdown",
   "id": "77b2997c-a69e-478a-adac-b0bcee2b259d",
   "metadata": {},
   "source": [
    "In the above example, the scalar `10` is **broadcasted** to each element in the array.\n",
    "\n",
    "### Example: Broadcasting Arrays\n",
    "```python"
   ]
  },
  {
   "cell_type": "markdown",
   "id": "915d9379-f664-45e1-bda2-222d87fe2c51",
   "metadata": {},
   "source": [
    "a = np.array([[1, 2, 3], [4, 5, 6]])\n",
    "b = np.array([10, 20, 30])\n",
    "\n",
    "print(\"Broadcasted Addition:\\n\", a + b)\n"
   ]
  },
  {
   "cell_type": "markdown",
   "id": "41191863-3d2e-406b-8a3f-1471835140a5",
   "metadata": {},
   "source": [
    "# **7. Matrix Operations**\n",
    "NumPy supports various **matrix operations** like **dot products**, **transpose**, and **inversion**.\n",
    "\n",
    "### Example: Matrix Multiplication\n",
    "```python"
   ]
  },
  {
   "cell_type": "code",
   "execution_count": 6,
   "id": "d1d48e27-db3e-46fa-9c68-ee2cb59f74ed",
   "metadata": {},
   "outputs": [
    {
     "name": "stdout",
     "output_type": "stream",
     "text": [
      "Element-wise Multiplication:\n",
      " [[ 5 12]\n",
      " [21 32]]\n",
      "Matrix Multiplication:\n",
      " [[19 22]\n",
      " [43 50]]\n"
     ]
    }
   ],
   "source": [
    "A = np.array([[1, 2], [3, 4]])\n",
    "B = np.array([[5, 6], [7, 8]])\n",
    "\n",
    "# Element-wise multiplication\n",
    "print(\"Element-wise Multiplication:\\n\", A * B)\n",
    "\n",
    "# Matrix multiplication (dot product)\n",
    "print(\"Matrix Multiplication:\\n\", np.dot(A, B))"
   ]
  },
  {
   "cell_type": "markdown",
   "id": "cfd40181-e759-40ee-9bc8-6bf1708fcf33",
   "metadata": {},
   "source": [
    "### Example: Transpose of a Matrix"
   ]
  },
  {
   "cell_type": "markdown",
   "id": "450cb890-8b19-41b7-b22e-9816f24696c5",
   "metadata": {},
   "source": [
    "A = np.array([[1, 2], [3, 4]])\n",
    "print(\"Original Matrix:\\n\", A)\n",
    "print(\"Transpose:\\n\", A.T)"
   ]
  },
  {
   "cell_type": "markdown",
   "id": "a3b4ce25-a41d-4ef2-b6d4-f8c73ecf8abf",
   "metadata": {},
   "source": [
    "### Example: Inverse of a Matrix"
   ]
  },
  {
   "cell_type": "code",
   "execution_count": 7,
   "id": "c1edfb5b-32ca-4d23-a91d-2022bf5cbd3a",
   "metadata": {},
   "outputs": [
    {
     "name": "stdout",
     "output_type": "stream",
     "text": [
      "Inverse:\n",
      " [[-2.   1. ]\n",
      " [ 1.5 -0.5]]\n"
     ]
    }
   ],
   "source": [
    "from numpy.linalg import inv\n",
    "\n",
    "A = np.array([[1, 2], [3, 4]])\n",
    "print(\"Inverse:\\n\", inv(A))"
   ]
  },
  {
   "cell_type": "markdown",
   "id": "1a0692df-6878-42ff-8a41-53f2d59995de",
   "metadata": {},
   "source": [
    "# **8. Example Assignment (Q&A)**\n",
    "\n",
    "### **Q1: Create a 2x3 Array of Random Integers Between 1 and 50. Find Its Mean and Transpose.**"
   ]
  },
  {
   "cell_type": "markdown",
   "id": "30977bfa-32e3-477e-b332-417cec9929c8",
   "metadata": {},
   "source": [
    "import numpy as np\n",
    "\n",
    "arr = np.random.randint(1, 51, size=(2, 3))\n",
    "print(\"Original Array:\\n\", arr)\n",
    "\n",
    "mean_value = np.mean(arr)\n",
    "print(\"Mean:\", mean_value)\n",
    "\n",
    "transpose = arr.T\n",
    "print(\"Transpose:\\n\", transpose)"
   ]
  },
  {
   "cell_type": "markdown",
   "id": "580f5c47-f87c-4ae7-8f2d-6958f8456cfc",
   "metadata": {},
   "source": [
    "### **Q2: Perform Element-wise Addition and Matrix Multiplication on Two 2x2 Matrices.**"
   ]
  },
  {
   "cell_type": "code",
   "execution_count": 8,
   "id": "0f061f1c-8e49-424c-a1a2-2a6822362609",
   "metadata": {},
   "outputs": [
    {
     "name": "stdout",
     "output_type": "stream",
     "text": [
      "Element-wise Addition:\n",
      " [[ 6  8]\n",
      " [10 12]]\n",
      "Matrix Multiplication:\n",
      " [[19 22]\n",
      " [43 50]]\n"
     ]
    }
   ],
   "source": [
    "\n",
    "\n",
    "import numpy as np\n",
    "\n",
    "A = np.array([[1, 2], [3, 4]])\n",
    "B = np.array([[5, 6], [7, 8]])\n",
    "\n",
    "print(\"Element-wise Addition:\\n\", A + B)\n",
    "print(\"Matrix Multiplication:\\n\", np.dot(A, B))"
   ]
  },
  {
   "cell_type": "markdown",
   "id": "6da894c9-f396-4f04-9bb6-46d649787f9f",
   "metadata": {},
   "source": [
    "### **Q3: Create a 1D Array of Even Numbers Between 10 and 20. Replace All Values Greater Than 15 with -1.**"
   ]
  },
  {
   "cell_type": "code",
   "execution_count": 9,
   "id": "418aa52d-ee61-49e9-982d-30cfaba49e7c",
   "metadata": {},
   "outputs": [
    {
     "name": "stdout",
     "output_type": "stream",
     "text": [
      "Original Array: [10 12 14 16 18 20]\n",
      "Modified Array: [10 12 14 -1 -1 -1]\n"
     ]
    }
   ],
   "source": [
    "import numpy as np\n",
    "\n",
    "arr = np.arange(10, 21, 2)\n",
    "print(\"Original Array:\", arr)\n",
    "\n",
    "arr[arr > 15] = -1\n",
    "print(\"Modified Array:\", arr)"
   ]
  },
  {
   "cell_type": "markdown",
   "id": "264d6b01-c260-4c2c-90a9-ae0b1630f8d4",
   "metadata": {},
   "source": [
    "### **Q4: Create a 3x3 Identity Matrix and Multiply It with a Random 3x3 Matrix.**"
   ]
  },
  {
   "cell_type": "code",
   "execution_count": 10,
   "id": "b2c6c414-661b-440b-85d6-836304036c33",
   "metadata": {},
   "outputs": [
    {
     "name": "stdout",
     "output_type": "stream",
     "text": [
      "Identity Matrix:\n",
      " [[1. 0. 0.]\n",
      " [0. 1. 0.]\n",
      " [0. 0. 1.]]\n",
      "Random Matrix:\n",
      " [[7 2 1]\n",
      " [5 4 5]\n",
      " [3 1 9]]\n",
      "Result of Multiplication:\n",
      " [[7. 2. 1.]\n",
      " [5. 4. 5.]\n",
      " [3. 1. 9.]]\n"
     ]
    }
   ],
   "source": [
    "import numpy as np\n",
    "\n",
    "identity_matrix = np.eye(3)\n",
    "random_matrix = np.random.randint(1, 10, size=(3, 3))\n",
    "\n",
    "print(\"Identity Matrix:\\n\", identity_matrix)\n",
    "print(\"Random Matrix:\\n\", random_matrix)\n",
    "\n",
    "result = np.dot(identity_matrix, random_matrix)\n",
    "print(\"Result of Multiplication:\\n\", result)"
   ]
  },
  {
   "cell_type": "markdown",
   "id": "48f33625-fc88-487c-8fb5-e22e7d8bd6f4",
   "metadata": {},
   "source": [
    "### **Q5: Demonstrate Broadcasting by Adding a 1D Array to a 2D Array.**"
   ]
  },
  {
   "cell_type": "code",
   "execution_count": 11,
   "id": "e72c3cf5-100c-49bd-86bc-6e8f03d97e27",
   "metadata": {},
   "outputs": [
    {
     "name": "stdout",
     "output_type": "stream",
     "text": [
      "Original 2D Array:\n",
      " [[1 2 3]\n",
      " [4 5 6]]\n",
      "1D Array: [10 20 30]\n",
      "Broadcasted Addition:\n",
      " [[11 22 33]\n",
      " [14 25 36]]\n"
     ]
    }
   ],
   "source": [
    "import numpy as np\n",
    "\n",
    "a = np.array([[1, 2, 3], [4, 5, 6]])\n",
    "b = np.array([10, 20, 30])\n",
    "\n",
    "print(\"Original 2D Array:\\n\", a)\n",
    "print(\"1D Array:\", b)\n",
    "\n",
    "result = a + b  # Broadcasting\n",
    "print(\"Broadcasted Addition:\\n\", result)"
   ]
  },
  {
   "cell_type": "markdown",
   "id": "99ff9e47-c4fa-4272-9a3a-d407a7d0f304",
   "metadata": {},
   "source": [
    "# **Summary**\n",
    "\n",
    "| **Topic**          | **Description** |\n",
    "|--------------------|-----------------|\n",
    "| **Setup**          | Installation and importing NumPy. |\n",
    "| **Data Types**     | Different dtypes like int, float, bool. |\n",
    "| **Basic Operators**| Element-wise operations (+, -, *, /). |\n",
    "| **Indexing**       | Access and slice elements in arrays. |\n",
    "| **Broadcasting**   | Operations on arrays of different shapes. |\n",
    "| **Matrix Operations** | Multiplication, transpose, and inverse. |\n",
    "\n",
    "\n",
    "\n",
    "---\n",
    "\n",
    "# Optional reading\n",
    "---\n",
    "\n",
    "## **1. What is NumPy?**\n",
    "- **NumPy** stands for **Numerical Python**.\n",
    "- It allows you to perform fast mathematical operations on large datasets, such as matrix multiplication, linear algebra, and Fourier transforms.\n",
    "- Arrays in NumPy are called **ndarrays**, and they are faster and more memory-efficient than standard Python lists.\n",
    "\n",
    "---\n",
    "\n",
    "## **2. Installing and Importing NumPy**\n",
    "\n",
    "If you don’t have NumPy installed, use the following command:\n",
    "```bash\n",
    "pip install numpy\n",
    "```\n",
    "\n",
    "Import NumPy into your program:\n",
    "```python\n",
    "import numpy as np\n",
    "```\n",
    "\n",
    "---\n",
    "\n",
    "## **3. Basic Operations with NumPy**\n",
    "\n",
    "### **Creating Arrays**\n",
    "```python\n",
    "import numpy as np\n",
    "\n",
    "# 1D Array\n",
    "arr1 = np.array([1, 2, 3, 4])\n",
    "print(\"1D Array:\", arr1)\n",
    "\n",
    "# 2D Array (Matrix)\n",
    "arr2 = np.array([[1, 2], [3, 4]])\n",
    "print(\"2D Array:\\n\", arr2)\n",
    "\n",
    "# Array of zeros\n",
    "zeros = np.zeros((2, 3))\n",
    "print(\"Array of Zeros:\\n\", zeros)\n",
    "\n",
    "# Array of ones\n",
    "ones = np.ones((3, 2))\n",
    "print(\"Array of Ones:\\n\", ones)\n",
    "\n",
    "# Identity matrix\n",
    "identity = np.eye(3)\n",
    "print(\"Identity Matrix:\\n\", identity)\n",
    "```\n",
    "\n",
    "---\n",
    "\n",
    "### **Array Attributes**\n",
    "```python\n",
    "print(\"Shape of arr2:\", arr2.shape)  # Shape of the array\n",
    "print(\"Number of Dimensions:\", arr2.ndim)  # Number of dimensions\n",
    "print(\"Data Type:\", arr2.dtype)  # Data type of elements\n",
    "print(\"Size of Array:\", arr2.size)  # Total elements\n",
    "```\n",
    "\n",
    "---\n",
    "\n",
    "### **Array Reshaping**\n",
    "```python\n",
    "arr = np.array([1, 2, 3, 4, 5, 6])\n",
    "reshaped = arr.reshape((2, 3))\n",
    "print(\"Reshaped Array:\\n\", reshaped)\n",
    "```\n",
    "\n",
    "---\n",
    "\n",
    "### **Array Indexing and Slicing**\n",
    "```python\n",
    "arr = np.array([10, 20, 30, 40, 50])\n",
    "\n",
    "# Access elements by index\n",
    "print(\"First Element:\", arr[0])\n",
    "print(\"Last Element:\", arr[-1])\n",
    "\n",
    "# Slicing the array\n",
    "print(\"First Three Elements:\", arr[:3])\n",
    "```\n",
    "\n",
    "---"
   ]
  },
  {
   "cell_type": "markdown",
   "id": "1d51c734-b907-4206-b015-42f6ad25b6d4",
   "metadata": {},
   "source": [
    "### **Operations on Arrays**"
   ]
  },
  {
   "cell_type": "code",
   "execution_count": 12,
   "id": "12804ec2-bcac-4ec7-a6ee-a336d29bfc08",
   "metadata": {
    "jp-MarkdownHeadingCollapsed": true
   },
   "outputs": [
    {
     "name": "stdout",
     "output_type": "stream",
     "text": [
      "Addition: [5 7 9]\n",
      "Subtraction: [-3 -3 -3]\n",
      "Multiplication: [ 4 10 18]\n",
      "Division: [0.25 0.4  0.5 ]\n",
      "Add Scalar 10 to all elements: [11 12 13]\n"
     ]
    }
   ],
   "source": [
    "a = np.array([1, 2, 3])\n",
    "b = np.array([4, 5, 6])\n",
    "\n",
    "# Element-wise addition, subtraction, multiplication, and division\n",
    "print(\"Addition:\", a + b)\n",
    "print(\"Subtraction:\", a - b)\n",
    "print(\"Multiplication:\", a * b)\n",
    "print(\"Division:\", a / b)\n",
    "\n",
    "# Broadcasting\n",
    "print(\"Add Scalar 10 to all elements:\", a + 10)"
   ]
  },
  {
   "cell_type": "markdown",
   "id": "99e6bfd4-9b84-4b4a-9ba6-8f9dfef2fa72",
   "metadata": {},
   "source": [
    "### **Matrix Multiplication**"
   ]
  },
  {
   "cell_type": "code",
   "execution_count": 13,
   "id": "6f31e098-d9fb-435e-bd1b-ce5ca0395861",
   "metadata": {},
   "outputs": [
    {
     "name": "stdout",
     "output_type": "stream",
     "text": [
      "Element-wise Multiplication:\n",
      " [[ 5 12]\n",
      " [21 32]]\n",
      "Matrix Multiplication:\n",
      " [[19 22]\n",
      " [43 50]]\n"
     ]
    }
   ],
   "source": [
    "A = np.array([[1, 2], [3, 4]])\n",
    "B = np.array([[5, 6], [7, 8]])\n",
    "\n",
    "# Element-wise multiplication\n",
    "print(\"Element-wise Multiplication:\\n\", A * B)\n",
    "\n",
    "# Matrix multiplication\n",
    "print(\"Matrix Multiplication:\\n\", A @ B)  # or np.dot(A, B)\n"
   ]
  },
  {
   "cell_type": "code",
   "execution_count": 14,
   "id": "7d97c7ae-3905-4dde-8712-b40c338fd70c",
   "metadata": {},
   "outputs": [
    {
     "name": "stdout",
     "output_type": "stream",
     "text": [
      "Sum: 15\n",
      "Mean: 3.0\n",
      "Max: 5\n",
      "Min: 1\n",
      "Standard Deviation: 1.4142135623730951\n"
     ]
    }
   ],
   "source": [
    "arr = np.array([1, 2, 3, 4, 5])\n",
    "\n",
    "print(\"Sum:\", np.sum(arr))\n",
    "print(\"Mean:\", np.mean(arr))\n",
    "print(\"Max:\", np.max(arr))\n",
    "print(\"Min:\", np.min(arr))\n",
    "print(\"Standard Deviation:\", np.std(arr))"
   ]
  },
  {
   "cell_type": "markdown",
   "id": "f17cff8a-70f0-4208-a55d-402976ccd0b3",
   "metadata": {},
   "source": [
    "### **Generating Random Numbers**\n"
   ]
  },
  {
   "cell_type": "code",
   "execution_count": 15,
   "id": "758e0d99-616a-4a3c-9ea2-aaf9b6772a3b",
   "metadata": {},
   "outputs": [
    {
     "name": "stdout",
     "output_type": "stream",
     "text": [
      "Random Array:\n",
      " [[0.84125333 0.12068276 0.33959723]\n",
      " [0.20609209 0.55464226 0.41038257]]\n",
      "Random Integers:\n",
      " [[48 20]\n",
      " [37 28]]\n"
     ]
    }
   ],
   "source": [
    "# Random float values between 0 and 1\n",
    "random_arr = np.random.rand(2, 3)\n",
    "print(\"Random Array:\\n\", random_arr)\n",
    "\n",
    "# Random integers between 10 and 50\n",
    "rand_ints = np.random.randint(10, 50, size=(2, 2))\n",
    "print(\"Random Integers:\\n\", rand_ints)"
   ]
  },
  {
   "cell_type": "markdown",
   "id": "3f0c3472-22f2-4c8a-9708-d2e139e84b69",
   "metadata": {},
   "source": [
    "### **Sorting and Searching**\n",
    "```python\n",
    "arr = np.array([3, 1, 2, 5, 4])\n",
    "\n",
    "# Sorting the array\n",
    "sorted_arr = np.sort(arr)\n",
    "print(\"Sorted Array:\", sorted_arr)\n",
    "\n",
    "# Searching for the index of a value\n",
    "index = np.where(arr == 5)\n",
    "print(\"Index of 5:\", index)\n",
    "```\n",
    "\n",
    "---\n",
    "\n",
    "### **Handling NaN (Not a Number)**\n",
    "```python\n",
    "arr = np.array([1, 2, np.nan, 4])\n",
    "\n",
    "print(\"Sum ignoring NaN:\", np.nansum(arr))  # Ignores NaN values\n",
    "```\n",
    "\n",
    "---\n",
    "\n",
    "### **Example Q&A Assignment**\n",
    "\n",
    "---\n",
    "\n",
    "#### **Q1: Create a 3x3 Matrix of Random Integers Between 1 and 100. Find the Sum, Mean, and Transpose of the Matrix.**\n",
    "\n",
    "**Code:**\n",
    "```python\n",
    "import numpy as np\n",
    "\n",
    "# Create a 3x3 matrix with random integers between 1 and 100\n",
    "matrix = np.random.randint(1, 101, size=(3, 3))\n",
    "print(\"Original Matrix:\\n\", matrix)\n",
    "\n",
    "# Calculate sum and mean\n",
    "matrix_sum = np.sum(matrix)\n",
    "matrix_mean = np.mean(matrix)\n",
    "\n",
    "# Transpose the matrix\n",
    "transpose = np.transpose(matrix)\n",
    "\n",
    "print(\"Sum:\", matrix_sum)\n",
    "print(\"Mean:\", matrix_mean)\n",
    "print(\"Transpose:\\n\", transpose)\n",
    "```\n",
    "\n",
    "---\n",
    "\n",
    "#### **Q2: Write a Program to Create a 2D Array of Shape (4, 5) Filled with Zeros. Replace All Elements in the Second Column with the Value 10.**\n",
    "\n",
    "**Code:**"
   ]
  },
  {
   "cell_type": "code",
   "execution_count": 16,
   "id": "5db8d206-00a7-44b4-923e-42efb1d70cf7",
   "metadata": {
    "jp-MarkdownHeadingCollapsed": true
   },
   "outputs": [
    {
     "name": "stdout",
     "output_type": "stream",
     "text": [
      "Original Array:\n",
      " [[0. 0. 0. 0. 0.]\n",
      " [0. 0. 0. 0. 0.]\n",
      " [0. 0. 0. 0. 0.]\n",
      " [0. 0. 0. 0. 0.]]\n",
      "Modified Array:\n",
      " [[ 0. 10.  0.  0.  0.]\n",
      " [ 0. 10.  0.  0.  0.]\n",
      " [ 0. 10.  0.  0.  0.]\n",
      " [ 0. 10.  0.  0.  0.]]\n"
     ]
    }
   ],
   "source": [
    "import numpy as np\n",
    "\n",
    "# Create a 2D array of zeros with shape (4, 5)\n",
    "arr = np.zeros((4, 5))\n",
    "print(\"Original Array:\\n\", arr)\n",
    "\n",
    "# Replace the second column with 10\n",
    "arr[:, 1] = 10\n",
    "print(\"Modified Array:\\n\", arr)"
   ]
  },
  {
   "cell_type": "markdown",
   "id": "03222da3-4667-4554-b6fd-d464ba332b2f",
   "metadata": {},
   "source": [
    "#### **Q3: Generate an Array of 10 Random Floats Between 0 and 1. Find the Index of the Maximum Value.**\n",
    "\n",
    "**Code:**"
   ]
  },
  {
   "cell_type": "code",
   "execution_count": 17,
   "id": "21ce4464-e230-4ba0-af6e-9f38eb5e964c",
   "metadata": {},
   "outputs": [
    {
     "name": "stdout",
     "output_type": "stream",
     "text": [
      "Random Floats: [0.05816703 0.56861255 0.80855688 0.55339441 0.74553453 0.78327995\n",
      " 0.99515319 0.6621325  0.86119745 0.79454525]\n",
      "Index of Maximum Value: 6\n"
     ]
    }
   ],
   "source": [
    "import numpy as np\n",
    "\n",
    "# Generate an array of 10 random floats\n",
    "random_floats = np.random.rand(10)\n",
    "print(\"Random Floats:\", random_floats)\n",
    "\n",
    "# Find the index of the maximum value\n",
    "max_index = np.argmax(random_floats)\n",
    "print(\"Index of Maximum Value:\", max_index)"
   ]
  },
  {
   "cell_type": "markdown",
   "id": "2fc0ba94-de05-4259-b423-44d325fb0b05",
   "metadata": {},
   "source": [
    "#### **Q4: Write a Program to Flatten a 2D Array into a 1D Array.**"
   ]
  },
  {
   "cell_type": "code",
   "execution_count": 18,
   "id": "56c123c1-5519-48ac-984c-ab4476fee934",
   "metadata": {},
   "outputs": [
    {
     "name": "stdout",
     "output_type": "stream",
     "text": [
      "Original Array:\n",
      " [[1 2 3]\n",
      " [4 5 6]]\n",
      "Flattened Array: [1 2 3 4 5 6]\n"
     ]
    }
   ],
   "source": [
    "import numpy as np\n",
    "\n",
    "# Create a 2D array\n",
    "arr = np.array([[1, 2, 3], [4, 5, 6]])\n",
    "print(\"Original Array:\\n\", arr)\n",
    "\n",
    "# Flatten the 2D array into a 1D array\n",
    "flattened = arr.flatten()\n",
    "print(\"Flattened Array:\", flattened)"
   ]
  },
  {
   "cell_type": "markdown",
   "id": "6df9e96a-af68-47b7-8319-3a449c72c125",
   "metadata": {},
   "source": [
    "#### **Q5: Create Two 1D Arrays, One of Even Numbers and One of Odd Numbers, Each of Length 5. Concatenate Them into a Single Array.**\n",
    "\n"
   ]
  },
  {
   "cell_type": "code",
   "execution_count": 19,
   "id": "67c2bf45-2947-4643-a706-9c43f3d9381c",
   "metadata": {},
   "outputs": [
    {
     "name": "stdout",
     "output_type": "stream",
     "text": [
      "Concatenated Array: [ 2  4  6  8 10  1  3  5  7  9]\n"
     ]
    }
   ],
   "source": [
    "import numpy as np\n",
    "\n",
    "# Create two 1D arrays\n",
    "even = np.array([2, 4, 6, 8, 10])\n",
    "odd = np.array([1, 3, 5, 7, 9])\n",
    "\n",
    "# Concatenate the arrays\n",
    "concatenated = np.concatenate((even, odd))\n",
    "print(\"Concatenated Array:\", concatenated)"
   ]
  },
  {
   "cell_type": "markdown",
   "id": "a80ffb58-4133-4843-8213-9c00120004cf",
   "metadata": {},
   "source": []
  },
  {
   "cell_type": "code",
   "execution_count": null,
   "id": "0fb1d866-b0c8-4c96-8f2a-bd8b50857779",
   "metadata": {},
   "outputs": [],
   "source": []
  },
  {
   "cell_type": "markdown",
   "id": "cff44577-eec9-4eed-8c0a-95a461546741",
   "metadata": {},
   "source": [
    "### **Matrix Multiplication**"
   ]
  },
  {
   "cell_type": "code",
   "execution_count": 20,
   "id": "5e2c395a-34b6-4e87-a24c-a3e919075bbf",
   "metadata": {},
   "outputs": [
    {
     "name": "stdout",
     "output_type": "stream",
     "text": [
      "Element-wise Multiplication:\n",
      " [[ 5 12]\n",
      " [21 32]]\n",
      "Matrix Multiplication:\n",
      " [[19 22]\n",
      " [43 50]]\n"
     ]
    }
   ],
   "source": [
    "A = np.array([[1, 2], [3, 4]])\n",
    "B = np.array([[5, 6], [7, 8]])\n",
    "\n",
    "# Element-wise multiplication\n",
    "print(\"Element-wise Multiplication:\\n\", A * B)\n",
    "\n",
    "# Matrix multiplication\n",
    "print(\"Matrix Multiplication:\\n\", A @ B)  # or np.dot(A, B)"
   ]
  },
  {
   "cell_type": "markdown",
   "id": "08e471a2-fce3-4637-a30c-0bcee369ef64",
   "metadata": {},
   "source": [
    "### **Statistical Functions**"
   ]
  },
  {
   "cell_type": "code",
   "execution_count": 21,
   "id": "b82825f9-db7e-4de3-b9dd-a1877b94edb6",
   "metadata": {},
   "outputs": [
    {
     "name": "stdout",
     "output_type": "stream",
     "text": [
      "Sum: 15\n",
      "Mean: 3.0\n",
      "Max: 5\n",
      "Min: 1\n",
      "Standard Deviation: 1.4142135623730951\n"
     ]
    }
   ],
   "source": [
    "arr = np.array([1, 2, 3, 4, 5])\n",
    "\n",
    "print(\"Sum:\", np.sum(arr))\n",
    "print(\"Mean:\", np.mean(arr))\n",
    "print(\"Max:\", np.max(arr))\n",
    "print(\"Min:\", np.min(arr))\n",
    "print(\"Standard Deviation:\", np.std(arr))"
   ]
  },
  {
   "cell_type": "markdown",
   "id": "6e4e0b10-5a46-409d-a7c3-b632de86e7b3",
   "metadata": {},
   "source": [
    "### **Generating Random Numbers**"
   ]
  },
  {
   "cell_type": "code",
   "execution_count": 23,
   "id": "ed06ee22-9175-422f-9f04-82d2fe2f9960",
   "metadata": {},
   "outputs": [
    {
     "name": "stdout",
     "output_type": "stream",
     "text": [
      "Random Array:\n",
      " [[0.38516486 0.24170739 0.38292564]\n",
      " [0.17999173 0.94547708 0.09367276]]\n",
      "Random Integers:\n",
      " [[45 49]\n",
      " [18 28]]\n"
     ]
    }
   ],
   "source": [
    "# Random float values between 0 and 1\n",
    "random_arr = np.random.rand(2, 3)\n",
    "print(\"Random Array:\\n\", random_arr)\n",
    "\n",
    "# Random integers between 10 and 50\n",
    "rand_ints = np.random.randint(10, 50, size=(2, 2))\n",
    "print(\"Random Integers:\\n\", rand_ints)"
   ]
  },
  {
   "cell_type": "code",
   "execution_count": 24,
   "id": "2068f043-0f80-4609-a7b7-1553dde3af15",
   "metadata": {},
   "outputs": [
    {
     "name": "stdout",
     "output_type": "stream",
     "text": [
      "Sorted Array: [1 2 3 4 5]\n",
      "Index of 5: (array([3], dtype=int64),)\n"
     ]
    }
   ],
   "source": [
    "arr = np.array([3, 1, 2, 5, 4])\n",
    "\n",
    "# Sorting the array\n",
    "sorted_arr = np.sort(arr)\n",
    "print(\"Sorted Array:\", sorted_arr)\n",
    "\n",
    "# Searching for the index of a value\n",
    "index = np.where(arr == 5)\n",
    "print(\"Index of 5:\", index)"
   ]
  },
  {
   "cell_type": "markdown",
   "id": "98463379-8bba-49ab-b552-40460a6221ea",
   "metadata": {},
   "source": [
    "### **Handling NaN (Not a Number)**\n",
    "```python"
   ]
  },
  {
   "cell_type": "code",
   "execution_count": 25,
   "id": "1b1cab1e-6cbd-47c4-8a8f-606a1e763411",
   "metadata": {},
   "outputs": [
    {
     "name": "stdout",
     "output_type": "stream",
     "text": [
      "Sum ignoring NaN: 7.0\n"
     ]
    }
   ],
   "source": [
    "arr = np.array([1, 2, np.nan, 4])\n",
    "\n",
    "print(\"Sum ignoring NaN:\", np.nansum(arr))  # Ignores NaN values"
   ]
  },
  {
   "cell_type": "markdown",
   "id": "8e4361b8-07f4-477c-bf57-3c52a3e3dff2",
   "metadata": {},
   "source": [
    "\n",
    "\n",
    "### **Example Q&A Assignment**\n",
    "\n",
    "\n",
    "\n",
    "#### **Q1: Create a 3x3 Matrix of Random Integers Between 1 and 100. Find the Sum, Mean, and Transpose of the Matrix.**\n",
    "\n",
    "\n"
   ]
  },
  {
   "cell_type": "code",
   "execution_count": 26,
   "id": "b6b6e7d8-64b4-4401-9c48-8de676afdd1f",
   "metadata": {},
   "outputs": [
    {
     "name": "stdout",
     "output_type": "stream",
     "text": [
      "Original Matrix:\n",
      " [[ 1 86 39]\n",
      " [63 94 57]\n",
      " [54 65 32]]\n",
      "Sum: 491\n",
      "Mean: 54.55555555555556\n",
      "Transpose:\n",
      " [[ 1 63 54]\n",
      " [86 94 65]\n",
      " [39 57 32]]\n"
     ]
    }
   ],
   "source": [
    "import numpy as np\n",
    "\n",
    "# Create a 3x3 matrix with random integers between 1 and 100\n",
    "matrix = np.random.randint(1, 101, size=(3, 3))\n",
    "print(\"Original Matrix:\\n\", matrix)\n",
    "\n",
    "# Calculate sum and mean\n",
    "matrix_sum = np.sum(matrix)\n",
    "matrix_mean = np.mean(matrix)\n",
    "\n",
    "# Transpose the matrix\n",
    "transpose = np.transpose(matrix)\n",
    "\n",
    "print(\"Sum:\", matrix_sum)\n",
    "print(\"Mean:\", matrix_mean)\n",
    "print(\"Transpose:\\n\", transpose)"
   ]
  },
  {
   "cell_type": "markdown",
   "id": "1e00d0ed-31f2-402c-bd5f-4ec5120aa6bd",
   "metadata": {},
   "source": [
    "\n",
    "#### **Q2: Write a Program to Create a 2D Array of Shape (4, 5) Filled with Zeros. Replace All Elements in the Second Column with the Value 10.**\n",
    "\n"
   ]
  },
  {
   "cell_type": "code",
   "execution_count": 27,
   "id": "05f4a345-0fec-41ed-83d0-c06529f29d6e",
   "metadata": {},
   "outputs": [
    {
     "name": "stdout",
     "output_type": "stream",
     "text": [
      "Original Array:\n",
      " [[0. 0. 0. 0. 0.]\n",
      " [0. 0. 0. 0. 0.]\n",
      " [0. 0. 0. 0. 0.]\n",
      " [0. 0. 0. 0. 0.]]\n",
      "Modified Array:\n",
      " [[ 0. 10.  0.  0.  0.]\n",
      " [ 0. 10.  0.  0.  0.]\n",
      " [ 0. 10.  0.  0.  0.]\n",
      " [ 0. 10.  0.  0.  0.]]\n"
     ]
    }
   ],
   "source": [
    "import numpy as np\n",
    "\n",
    "# Create a 2D array of zeros with shape (4, 5)\n",
    "arr = np.zeros((4, 5))\n",
    "print(\"Original Array:\\n\", arr)\n",
    "\n",
    "# Replace the second column with 10\n",
    "arr[:, 1] = 10\n",
    "print(\"Modified Array:\\n\", arr)"
   ]
  },
  {
   "cell_type": "markdown",
   "id": "a8e49026-2d23-45ea-9bb1-ac02f85a6c0d",
   "metadata": {},
   "source": [
    "\n",
    "\n",
    "#### **Q3: Generate an Array of 10 Random Floats Between 0 and 1. Find the Index of the Maximum Value.**\n"
   ]
  },
  {
   "cell_type": "code",
   "execution_count": 28,
   "id": "4d36ecaf-c97b-4988-823b-1c73dfcc6963",
   "metadata": {},
   "outputs": [
    {
     "name": "stdout",
     "output_type": "stream",
     "text": [
      "Random Floats: [0.83498319 0.26002707 0.64186749 0.89027059 0.90013897 0.48728324\n",
      " 0.86690614 0.33223252 0.60686195 0.36626149]\n",
      "Index of Maximum Value: 4\n"
     ]
    }
   ],
   "source": [
    "import numpy as np\n",
    "\n",
    "# Generate an array of 10 random floats\n",
    "random_floats = np.random.rand(10)\n",
    "print(\"Random Floats:\", random_floats)\n",
    "\n",
    "# Find the index of the maximum value\n",
    "max_index = np.argmax(random_floats)\n",
    "print(\"Index of Maximum Value:\", max_index)"
   ]
  },
  {
   "cell_type": "markdown",
   "id": "b743905d-46c8-44f6-8d84-31d26e878da8",
   "metadata": {},
   "source": [
    "\n",
    "#### **Q4: Write a Program to Flatten a 2D Array into a 1D Array.**\n",
    "\n"
   ]
  },
  {
   "cell_type": "code",
   "execution_count": 29,
   "id": "3407c047-8f87-492d-a427-e4748e4fa3bc",
   "metadata": {},
   "outputs": [
    {
     "name": "stdout",
     "output_type": "stream",
     "text": [
      "Original Array:\n",
      " [[1 2 3]\n",
      " [4 5 6]]\n",
      "Flattened Array: [1 2 3 4 5 6]\n"
     ]
    }
   ],
   "source": [
    "import numpy as np\n",
    "\n",
    "# Create a 2D array\n",
    "arr = np.array([[1, 2, 3], [4, 5, 6]])\n",
    "print(\"Original Array:\\n\", arr)\n",
    "\n",
    "# Flatten the 2D array into a 1D array\n",
    "flattened = arr.flatten()\n",
    "print(\"Flattened Array:\", flattened)"
   ]
  },
  {
   "cell_type": "markdown",
   "id": "5fd39988-790f-4b8d-aaa2-b50cc7579b2b",
   "metadata": {},
   "source": [
    "\n",
    "\n",
    "#### **Q5: Create Two 1D Arrays, One of Even Numbers and One of Odd Numbers, Each of Length 5. Concatenate Them into a Single Array.**\n",
    "\n"
   ]
  },
  {
   "cell_type": "code",
   "execution_count": 30,
   "id": "62caac9c-2651-4320-9572-2b9ef46664f6",
   "metadata": {},
   "outputs": [
    {
     "name": "stdout",
     "output_type": "stream",
     "text": [
      "Concatenated Array: [ 2  4  6  8 10  1  3  5  7  9]\n"
     ]
    }
   ],
   "source": [
    "import numpy as np\n",
    "\n",
    "# Create two 1D arrays\n",
    "even = np.array([2, 4, 6, 8, 10])\n",
    "odd = np.array([1, 3, 5, 7, 9])\n",
    "\n",
    "# Concatenate the arrays\n",
    "concatenated = np.concatenate((even, odd))\n",
    "print(\"Concatenated Array:\", concatenated)"
   ]
  }
 ],
 "metadata": {
  "kernelspec": {
   "display_name": "Python 3 (ipykernel)",
   "language": "python",
   "name": "python3"
  },
  "language_info": {
   "codemirror_mode": {
    "name": "ipython",
    "version": 3
   },
   "file_extension": ".py",
   "mimetype": "text/x-python",
   "name": "python",
   "nbconvert_exporter": "python",
   "pygments_lexer": "ipython3",
   "version": "3.11.3"
  }
 },
 "nbformat": 4,
 "nbformat_minor": 5
}
